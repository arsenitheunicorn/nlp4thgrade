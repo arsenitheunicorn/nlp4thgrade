{
 "cells": [
  {
   "cell_type": "code",
   "execution_count": 1,
   "metadata": {},
   "outputs": [],
   "source": [
    "import pandas as pd\n",
    "import json"
   ]
  },
  {
   "cell_type": "code",
   "execution_count": null,
   "metadata": {
    "scrolled": true
   },
   "outputs": [],
   "source": [
    "#print(list500)\n",
    "summ = 0\n",
    "c = 0\n",
    "for elem in list500:\n",
    "    print(len(elem), type(elem))\n",
    "    summ+=len(elem)\n",
    "    c+=1\n",
    "\n",
    "print(summ)"
   ]
  },
  {
   "cell_type": "code",
   "execution_count": null,
   "metadata": {},
   "outputs": [],
   "source": [
    "list500[49]"
   ]
  },
  {
   "cell_type": "code",
   "execution_count": null,
   "metadata": {},
   "outputs": [],
   "source": [
    "for artist in dict500:\n",
    "    print(artist, len(dict500[artist]), dict500[artist][0]['URL'])"
   ]
  },
  {
   "cell_type": "code",
   "execution_count": null,
   "metadata": {},
   "outputs": [],
   "source": [
    "c"
   ]
  },
  {
   "cell_type": "code",
   "execution_count": 2,
   "metadata": {},
   "outputs": [],
   "source": [
    "big_dataset = pd.read_csv(\"tcc_ceds_music.csv\")"
   ]
  },
  {
   "cell_type": "code",
   "execution_count": null,
   "metadata": {},
   "outputs": [],
   "source": [
    "big_dataset"
   ]
  },
  {
   "cell_type": "code",
   "execution_count": 3,
   "metadata": {},
   "outputs": [],
   "source": [
    "df = big_dataset[big_dataset['release_date'] > 1994][[\"artist_name\", \"lyrics\"]]"
   ]
  },
  {
   "cell_type": "code",
   "execution_count": null,
   "metadata": {},
   "outputs": [],
   "source": [
    "df"
   ]
  },
  {
   "cell_type": "code",
   "execution_count": 6,
   "metadata": {},
   "outputs": [],
   "source": [
    "df_freq = df.groupby('artist_name').count()"
   ]
  },
  {
   "cell_type": "code",
   "execution_count": 18,
   "metadata": {},
   "outputs": [
    {
     "data": {
      "text/plain": [
       "(8.864370290635092, 6.0)"
      ]
     },
     "execution_count": 18,
     "metadata": {},
     "output_type": "execute_result"
    }
   ],
   "source": [
    "df_freq_gt3 = df_freq[df_freq[\"lyrics\"] > 3]\n",
    "df_freq_gt3['lyrics'].mean(), df_freq_gt3['lyrics'].median()"
   ]
  },
  {
   "cell_type": "code",
   "execution_count": 22,
   "metadata": {},
   "outputs": [
    {
     "data": {
      "text/plain": [
       "(23.74774774774775, 21.0, 2636, 111)"
      ]
     },
     "execution_count": 22,
     "metadata": {},
     "output_type": "execute_result"
    }
   ],
   "source": [
    "df_freq_gt15 = df_freq[df_freq[\"lyrics\"] > 15]\n",
    "df_freq_gt15['lyrics'].mean(), df_freq_gt15['lyrics'].median(), df_freq_gt15['lyrics'].sum(), len(df_freq_gt15.index)"
   ]
  },
  {
   "cell_type": "code",
   "execution_count": 19,
   "metadata": {},
   "outputs": [
    {
     "data": {
      "text/html": [
       "<div>\n",
       "<style scoped>\n",
       "    .dataframe tbody tr th:only-of-type {\n",
       "        vertical-align: middle;\n",
       "    }\n",
       "\n",
       "    .dataframe tbody tr th {\n",
       "        vertical-align: top;\n",
       "    }\n",
       "\n",
       "    .dataframe thead th {\n",
       "        text-align: right;\n",
       "    }\n",
       "</style>\n",
       "<table border=\"1\" class=\"dataframe\">\n",
       "  <thead>\n",
       "    <tr style=\"text-align: right;\">\n",
       "      <th></th>\n",
       "      <th>lyrics</th>\n",
       "    </tr>\n",
       "    <tr>\n",
       "      <th>artist_name</th>\n",
       "      <th></th>\n",
       "    </tr>\n",
       "  </thead>\n",
       "  <tbody>\n",
       "    <tr>\n",
       "      <th>*nsync</th>\n",
       "      <td>5</td>\n",
       "    </tr>\n",
       "    <tr>\n",
       "      <th>10 years</th>\n",
       "      <td>5</td>\n",
       "    </tr>\n",
       "    <tr>\n",
       "      <th>12 stones</th>\n",
       "      <td>4</td>\n",
       "    </tr>\n",
       "    <tr>\n",
       "      <th>3 doors down</th>\n",
       "      <td>7</td>\n",
       "    </tr>\n",
       "    <tr>\n",
       "      <th>311</th>\n",
       "      <td>33</td>\n",
       "    </tr>\n",
       "    <tr>\n",
       "      <th>...</th>\n",
       "      <td>...</td>\n",
       "    </tr>\n",
       "    <tr>\n",
       "      <th>zac brown band</th>\n",
       "      <td>20</td>\n",
       "    </tr>\n",
       "    <tr>\n",
       "      <th>zedd</th>\n",
       "      <td>4</td>\n",
       "    </tr>\n",
       "    <tr>\n",
       "      <th>zero 7</th>\n",
       "      <td>12</td>\n",
       "    </tr>\n",
       "    <tr>\n",
       "      <th>ziggy marley</th>\n",
       "      <td>18</td>\n",
       "    </tr>\n",
       "    <tr>\n",
       "      <th>ziggy marley &amp; the melody makers</th>\n",
       "      <td>6</td>\n",
       "    </tr>\n",
       "  </tbody>\n",
       "</table>\n",
       "<p>929 rows × 1 columns</p>\n",
       "</div>"
      ],
      "text/plain": [
       "                                  lyrics\n",
       "artist_name                             \n",
       "*nsync                                 5\n",
       "10 years                               5\n",
       "12 stones                              4\n",
       "3 doors down                           7\n",
       "311                                   33\n",
       "...                                  ...\n",
       "zac brown band                        20\n",
       "zedd                                   4\n",
       "zero 7                                12\n",
       "ziggy marley                          18\n",
       "ziggy marley & the melody makers       6\n",
       "\n",
       "[929 rows x 1 columns]"
      ]
     },
     "execution_count": 19,
     "metadata": {},
     "output_type": "execute_result"
    }
   ],
   "source": [
    "df_freq_gt3"
   ]
  },
  {
   "cell_type": "code",
   "execution_count": 26,
   "metadata": {},
   "outputs": [],
   "source": [
    "df_artists_gt15 = df_freq_gt15.index.to_list()\n",
    "df_artists_gt15_lower = [x.lower() for x in df_artists_gt15]"
   ]
  },
  {
   "cell_type": "code",
   "execution_count": 13,
   "metadata": {},
   "outputs": [
    {
     "name": "stdout",
     "output_type": "stream",
     "text": [
      "ID: 73910\n",
      "page: 1\n",
      "page: 2\n",
      "Scraped: https://genius.com/Hozier-work-song-lyrics\n",
      "Scraped: https://genius.com/Hozier-jackboot-jump-live-lyrics\n",
      "Scraped: https://genius.com/Hozier-talk-lyrics\n",
      "Scraped: https://genius.com/Hozier-wasteland-baby-lyrics\n",
      "Scraped: https://genius.com/Hozier-from-eden-live-at-sofar-sounds-lyrics\n",
      "Scraped: https://genius.com/Hozier-run-lyrics\n",
      "Scraped: https://genius.com/Hozier-blood-lyrics\n",
      "Scraped: https://genius.com/Hozier-bridge-over-troubled-water-lyrics\n"
     ]
    },
    {
     "ename": "KeyboardInterrupt",
     "evalue": "",
     "output_type": "error",
     "traceback": [
      "\u001b[1;31m---------------------------------------------------------------------------\u001b[0m",
      "\u001b[1;31mKeyboardInterrupt\u001b[0m                         Traceback (most recent call last)",
      "\u001b[1;32m<ipython-input-13-43d412396dc8>\u001b[0m in \u001b[0;36m<module>\u001b[1;34m\u001b[0m\n\u001b[1;32m----> 1\u001b[1;33m \u001b[1;32mfrom\u001b[0m \u001b[0mipynb\u001b[0m\u001b[1;33m.\u001b[0m\u001b[0mfs\u001b[0m\u001b[1;33m.\u001b[0m\u001b[0mfull\u001b[0m\u001b[1;33m.\u001b[0m\u001b[0mgenius_scrapping\u001b[0m \u001b[1;32mimport\u001b[0m \u001b[0mm_art_list\u001b[0m\u001b[1;33m,\u001b[0m \u001b[0mf_art_list\u001b[0m\u001b[1;33m\u001b[0m\u001b[1;33m\u001b[0m\u001b[0m\n\u001b[0m",
      "\u001b[1;32m~\\Desktop\\study\\nlp4thgrade\\bert_project\\genius_scrapping.ipynb\u001b[0m in \u001b[0;36m<module>\u001b[1;34m\u001b[0m\n\u001b[0;32m    176\u001b[0m     \u001b[1;34m\"                break\\n\"\u001b[0m\u001b[1;33m,\u001b[0m\u001b[1;33m\u001b[0m\u001b[1;33m\u001b[0m\u001b[0m\n\u001b[0;32m    177\u001b[0m     \u001b[1;34m\"\\n\"\u001b[0m\u001b[1;33m,\u001b[0m\u001b[1;33m\u001b[0m\u001b[1;33m\u001b[0m\u001b[0m\n\u001b[1;32m--> 178\u001b[1;33m     \u001b[1;34m\"        return album\"\u001b[0m\u001b[1;33m\u001b[0m\u001b[1;33m\u001b[0m\u001b[0m\n\u001b[0m\u001b[0;32m    179\u001b[0m    ]\n\u001b[0;32m    180\u001b[0m   },\n",
      "\u001b[1;32m~\\Desktop\\study\\nlp4thgrade\\bert_project\\genius_scrapping.ipynb\u001b[0m in \u001b[0;36mget_artist_songs\u001b[1;34m(self)\u001b[0m\n\u001b[0;32m    103\u001b[0m     \u001b[1;34m\"\\n\"\u001b[0m\u001b[1;33m,\u001b[0m\u001b[1;33m\u001b[0m\u001b[1;33m\u001b[0m\u001b[0m\n\u001b[0;32m    104\u001b[0m     \u001b[1;34m\"            page += 1\\n\"\u001b[0m\u001b[1;33m,\u001b[0m\u001b[1;33m\u001b[0m\u001b[1;33m\u001b[0m\u001b[0m\n\u001b[1;32m--> 105\u001b[1;33m     \u001b[1;34m\"\\n\"\u001b[0m\u001b[1;33m,\u001b[0m\u001b[1;33m\u001b[0m\u001b[1;33m\u001b[0m\u001b[0m\n\u001b[0m\u001b[0;32m    106\u001b[0m     \u001b[1;34m\"            if response['response']['next_page'] is None:\\n\"\u001b[0m\u001b[1;33m,\u001b[0m\u001b[1;33m\u001b[0m\u001b[1;33m\u001b[0m\u001b[0m\n\u001b[0;32m    107\u001b[0m     \u001b[1;34m\"                more_pages = False\\n\"\u001b[0m\u001b[1;33m,\u001b[0m\u001b[1;33m\u001b[0m\u001b[1;33m\u001b[0m\u001b[0m\n",
      "\u001b[1;32mC:\\users\\admin\\anaconda3\\lib\\site-packages\\pandas\\core\\series.py\u001b[0m in \u001b[0;36mapply\u001b[1;34m(self, func, convert_dtype, args, **kwds)\u001b[0m\n\u001b[0;32m   3846\u001b[0m             \u001b[1;32melse\u001b[0m\u001b[1;33m:\u001b[0m\u001b[1;33m\u001b[0m\u001b[1;33m\u001b[0m\u001b[0m\n\u001b[0;32m   3847\u001b[0m                 \u001b[0mvalues\u001b[0m \u001b[1;33m=\u001b[0m \u001b[0mself\u001b[0m\u001b[1;33m.\u001b[0m\u001b[0mastype\u001b[0m\u001b[1;33m(\u001b[0m\u001b[0mobject\u001b[0m\u001b[1;33m)\u001b[0m\u001b[1;33m.\u001b[0m\u001b[0mvalues\u001b[0m\u001b[1;33m\u001b[0m\u001b[1;33m\u001b[0m\u001b[0m\n\u001b[1;32m-> 3848\u001b[1;33m                 \u001b[0mmapped\u001b[0m \u001b[1;33m=\u001b[0m \u001b[0mlib\u001b[0m\u001b[1;33m.\u001b[0m\u001b[0mmap_infer\u001b[0m\u001b[1;33m(\u001b[0m\u001b[0mvalues\u001b[0m\u001b[1;33m,\u001b[0m \u001b[0mf\u001b[0m\u001b[1;33m,\u001b[0m \u001b[0mconvert\u001b[0m\u001b[1;33m=\u001b[0m\u001b[0mconvert_dtype\u001b[0m\u001b[1;33m)\u001b[0m\u001b[1;33m\u001b[0m\u001b[1;33m\u001b[0m\u001b[0m\n\u001b[0m\u001b[0;32m   3849\u001b[0m \u001b[1;33m\u001b[0m\u001b[0m\n\u001b[0;32m   3850\u001b[0m         \u001b[1;32mif\u001b[0m \u001b[0mlen\u001b[0m\u001b[1;33m(\u001b[0m\u001b[0mmapped\u001b[0m\u001b[1;33m)\u001b[0m \u001b[1;32mand\u001b[0m \u001b[0misinstance\u001b[0m\u001b[1;33m(\u001b[0m\u001b[0mmapped\u001b[0m\u001b[1;33m[\u001b[0m\u001b[1;36m0\u001b[0m\u001b[1;33m]\u001b[0m\u001b[1;33m,\u001b[0m \u001b[0mSeries\u001b[0m\u001b[1;33m)\u001b[0m\u001b[1;33m:\u001b[0m\u001b[1;33m\u001b[0m\u001b[1;33m\u001b[0m\u001b[0m\n",
      "\u001b[1;32mpandas\\_libs\\lib.pyx\u001b[0m in \u001b[0;36mpandas._libs.lib.map_infer\u001b[1;34m()\u001b[0m\n",
      "\u001b[1;32m~\\Desktop\\study\\nlp4thgrade\\bert_project\\genius_scrapping.ipynb\u001b[0m in \u001b[0;36mget_song_html\u001b[1;34m(self, url)\u001b[0m\n\u001b[0;32m    122\u001b[0m     \u001b[1;34m\"\\n\"\u001b[0m\u001b[1;33m,\u001b[0m\u001b[1;33m\u001b[0m\u001b[1;33m\u001b[0m\u001b[0m\n\u001b[0;32m    123\u001b[0m     \u001b[1;34m\"        del df['html']\\n\"\u001b[0m\u001b[1;33m,\u001b[0m\u001b[1;33m\u001b[0m\u001b[1;33m\u001b[0m\u001b[0m\n\u001b[1;32m--> 124\u001b[1;33m     \u001b[1;34m\"\\n\"\u001b[0m\u001b[1;33m,\u001b[0m\u001b[1;33m\u001b[0m\u001b[1;33m\u001b[0m\u001b[0m\n\u001b[0m\u001b[0;32m    125\u001b[0m     \u001b[1;34m\"        self.artist_songs = df\\n\"\u001b[0m\u001b[1;33m,\u001b[0m\u001b[1;33m\u001b[0m\u001b[1;33m\u001b[0m\u001b[0m\n\u001b[0;32m    126\u001b[0m     \u001b[1;34m\"\\n\"\u001b[0m\u001b[1;33m,\u001b[0m\u001b[1;33m\u001b[0m\u001b[1;33m\u001b[0m\u001b[0m\n",
      "\u001b[1;32mC:\\users\\admin\\anaconda3\\lib\\urllib\\request.py\u001b[0m in \u001b[0;36murlopen\u001b[1;34m(url, data, timeout, cafile, capath, cadefault, context)\u001b[0m\n\u001b[0;32m    220\u001b[0m     \u001b[1;32melse\u001b[0m\u001b[1;33m:\u001b[0m\u001b[1;33m\u001b[0m\u001b[1;33m\u001b[0m\u001b[0m\n\u001b[0;32m    221\u001b[0m         \u001b[0mopener\u001b[0m \u001b[1;33m=\u001b[0m \u001b[0m_opener\u001b[0m\u001b[1;33m\u001b[0m\u001b[1;33m\u001b[0m\u001b[0m\n\u001b[1;32m--> 222\u001b[1;33m     \u001b[1;32mreturn\u001b[0m \u001b[0mopener\u001b[0m\u001b[1;33m.\u001b[0m\u001b[0mopen\u001b[0m\u001b[1;33m(\u001b[0m\u001b[0murl\u001b[0m\u001b[1;33m,\u001b[0m \u001b[0mdata\u001b[0m\u001b[1;33m,\u001b[0m \u001b[0mtimeout\u001b[0m\u001b[1;33m)\u001b[0m\u001b[1;33m\u001b[0m\u001b[1;33m\u001b[0m\u001b[0m\n\u001b[0m\u001b[0;32m    223\u001b[0m \u001b[1;33m\u001b[0m\u001b[0m\n\u001b[0;32m    224\u001b[0m \u001b[1;32mdef\u001b[0m \u001b[0minstall_opener\u001b[0m\u001b[1;33m(\u001b[0m\u001b[0mopener\u001b[0m\u001b[1;33m)\u001b[0m\u001b[1;33m:\u001b[0m\u001b[1;33m\u001b[0m\u001b[1;33m\u001b[0m\u001b[0m\n",
      "\u001b[1;32mC:\\users\\admin\\anaconda3\\lib\\urllib\\request.py\u001b[0m in \u001b[0;36mopen\u001b[1;34m(self, fullurl, data, timeout)\u001b[0m\n\u001b[0;32m    523\u001b[0m             \u001b[0mreq\u001b[0m \u001b[1;33m=\u001b[0m \u001b[0mmeth\u001b[0m\u001b[1;33m(\u001b[0m\u001b[0mreq\u001b[0m\u001b[1;33m)\u001b[0m\u001b[1;33m\u001b[0m\u001b[1;33m\u001b[0m\u001b[0m\n\u001b[0;32m    524\u001b[0m \u001b[1;33m\u001b[0m\u001b[0m\n\u001b[1;32m--> 525\u001b[1;33m         \u001b[0mresponse\u001b[0m \u001b[1;33m=\u001b[0m \u001b[0mself\u001b[0m\u001b[1;33m.\u001b[0m\u001b[0m_open\u001b[0m\u001b[1;33m(\u001b[0m\u001b[0mreq\u001b[0m\u001b[1;33m,\u001b[0m \u001b[0mdata\u001b[0m\u001b[1;33m)\u001b[0m\u001b[1;33m\u001b[0m\u001b[1;33m\u001b[0m\u001b[0m\n\u001b[0m\u001b[0;32m    526\u001b[0m \u001b[1;33m\u001b[0m\u001b[0m\n\u001b[0;32m    527\u001b[0m         \u001b[1;31m# post-process response\u001b[0m\u001b[1;33m\u001b[0m\u001b[1;33m\u001b[0m\u001b[1;33m\u001b[0m\u001b[0m\n",
      "\u001b[1;32mC:\\users\\admin\\anaconda3\\lib\\urllib\\request.py\u001b[0m in \u001b[0;36m_open\u001b[1;34m(self, req, data)\u001b[0m\n\u001b[0;32m    541\u001b[0m         \u001b[0mprotocol\u001b[0m \u001b[1;33m=\u001b[0m \u001b[0mreq\u001b[0m\u001b[1;33m.\u001b[0m\u001b[0mtype\u001b[0m\u001b[1;33m\u001b[0m\u001b[1;33m\u001b[0m\u001b[0m\n\u001b[0;32m    542\u001b[0m         result = self._call_chain(self.handle_open, protocol, protocol +\n\u001b[1;32m--> 543\u001b[1;33m                                   '_open', req)\n\u001b[0m\u001b[0;32m    544\u001b[0m         \u001b[1;32mif\u001b[0m \u001b[0mresult\u001b[0m\u001b[1;33m:\u001b[0m\u001b[1;33m\u001b[0m\u001b[1;33m\u001b[0m\u001b[0m\n\u001b[0;32m    545\u001b[0m             \u001b[1;32mreturn\u001b[0m \u001b[0mresult\u001b[0m\u001b[1;33m\u001b[0m\u001b[1;33m\u001b[0m\u001b[0m\n",
      "\u001b[1;32mC:\\users\\admin\\anaconda3\\lib\\urllib\\request.py\u001b[0m in \u001b[0;36m_call_chain\u001b[1;34m(self, chain, kind, meth_name, *args)\u001b[0m\n\u001b[0;32m    501\u001b[0m         \u001b[1;32mfor\u001b[0m \u001b[0mhandler\u001b[0m \u001b[1;32min\u001b[0m \u001b[0mhandlers\u001b[0m\u001b[1;33m:\u001b[0m\u001b[1;33m\u001b[0m\u001b[1;33m\u001b[0m\u001b[0m\n\u001b[0;32m    502\u001b[0m             \u001b[0mfunc\u001b[0m \u001b[1;33m=\u001b[0m \u001b[0mgetattr\u001b[0m\u001b[1;33m(\u001b[0m\u001b[0mhandler\u001b[0m\u001b[1;33m,\u001b[0m \u001b[0mmeth_name\u001b[0m\u001b[1;33m)\u001b[0m\u001b[1;33m\u001b[0m\u001b[1;33m\u001b[0m\u001b[0m\n\u001b[1;32m--> 503\u001b[1;33m             \u001b[0mresult\u001b[0m \u001b[1;33m=\u001b[0m \u001b[0mfunc\u001b[0m\u001b[1;33m(\u001b[0m\u001b[1;33m*\u001b[0m\u001b[0margs\u001b[0m\u001b[1;33m)\u001b[0m\u001b[1;33m\u001b[0m\u001b[1;33m\u001b[0m\u001b[0m\n\u001b[0m\u001b[0;32m    504\u001b[0m             \u001b[1;32mif\u001b[0m \u001b[0mresult\u001b[0m \u001b[1;32mis\u001b[0m \u001b[1;32mnot\u001b[0m \u001b[1;32mNone\u001b[0m\u001b[1;33m:\u001b[0m\u001b[1;33m\u001b[0m\u001b[1;33m\u001b[0m\u001b[0m\n\u001b[0;32m    505\u001b[0m                 \u001b[1;32mreturn\u001b[0m \u001b[0mresult\u001b[0m\u001b[1;33m\u001b[0m\u001b[1;33m\u001b[0m\u001b[0m\n",
      "\u001b[1;32mC:\\users\\admin\\anaconda3\\lib\\urllib\\request.py\u001b[0m in \u001b[0;36mhttps_open\u001b[1;34m(self, req)\u001b[0m\n\u001b[0;32m   1360\u001b[0m         \u001b[1;32mdef\u001b[0m \u001b[0mhttps_open\u001b[0m\u001b[1;33m(\u001b[0m\u001b[0mself\u001b[0m\u001b[1;33m,\u001b[0m \u001b[0mreq\u001b[0m\u001b[1;33m)\u001b[0m\u001b[1;33m:\u001b[0m\u001b[1;33m\u001b[0m\u001b[1;33m\u001b[0m\u001b[0m\n\u001b[0;32m   1361\u001b[0m             return self.do_open(http.client.HTTPSConnection, req,\n\u001b[1;32m-> 1362\u001b[1;33m                 context=self._context, check_hostname=self._check_hostname)\n\u001b[0m\u001b[0;32m   1363\u001b[0m \u001b[1;33m\u001b[0m\u001b[0m\n\u001b[0;32m   1364\u001b[0m         \u001b[0mhttps_request\u001b[0m \u001b[1;33m=\u001b[0m \u001b[0mAbstractHTTPHandler\u001b[0m\u001b[1;33m.\u001b[0m\u001b[0mdo_request_\u001b[0m\u001b[1;33m\u001b[0m\u001b[1;33m\u001b[0m\u001b[0m\n",
      "\u001b[1;32mC:\\users\\admin\\anaconda3\\lib\\urllib\\request.py\u001b[0m in \u001b[0;36mdo_open\u001b[1;34m(self, http_class, req, **http_conn_args)\u001b[0m\n\u001b[0;32m   1320\u001b[0m             \u001b[1;32mexcept\u001b[0m \u001b[0mOSError\u001b[0m \u001b[1;32mas\u001b[0m \u001b[0merr\u001b[0m\u001b[1;33m:\u001b[0m \u001b[1;31m# timeout error\u001b[0m\u001b[1;33m\u001b[0m\u001b[1;33m\u001b[0m\u001b[0m\n\u001b[0;32m   1321\u001b[0m                 \u001b[1;32mraise\u001b[0m \u001b[0mURLError\u001b[0m\u001b[1;33m(\u001b[0m\u001b[0merr\u001b[0m\u001b[1;33m)\u001b[0m\u001b[1;33m\u001b[0m\u001b[1;33m\u001b[0m\u001b[0m\n\u001b[1;32m-> 1322\u001b[1;33m             \u001b[0mr\u001b[0m \u001b[1;33m=\u001b[0m \u001b[0mh\u001b[0m\u001b[1;33m.\u001b[0m\u001b[0mgetresponse\u001b[0m\u001b[1;33m(\u001b[0m\u001b[1;33m)\u001b[0m\u001b[1;33m\u001b[0m\u001b[1;33m\u001b[0m\u001b[0m\n\u001b[0m\u001b[0;32m   1323\u001b[0m         \u001b[1;32mexcept\u001b[0m\u001b[1;33m:\u001b[0m\u001b[1;33m\u001b[0m\u001b[1;33m\u001b[0m\u001b[0m\n\u001b[0;32m   1324\u001b[0m             \u001b[0mh\u001b[0m\u001b[1;33m.\u001b[0m\u001b[0mclose\u001b[0m\u001b[1;33m(\u001b[0m\u001b[1;33m)\u001b[0m\u001b[1;33m\u001b[0m\u001b[1;33m\u001b[0m\u001b[0m\n",
      "\u001b[1;32mC:\\users\\admin\\anaconda3\\lib\\http\\client.py\u001b[0m in \u001b[0;36mgetresponse\u001b[1;34m(self)\u001b[0m\n\u001b[0;32m   1342\u001b[0m         \u001b[1;32mtry\u001b[0m\u001b[1;33m:\u001b[0m\u001b[1;33m\u001b[0m\u001b[1;33m\u001b[0m\u001b[0m\n\u001b[0;32m   1343\u001b[0m             \u001b[1;32mtry\u001b[0m\u001b[1;33m:\u001b[0m\u001b[1;33m\u001b[0m\u001b[1;33m\u001b[0m\u001b[0m\n\u001b[1;32m-> 1344\u001b[1;33m                 \u001b[0mresponse\u001b[0m\u001b[1;33m.\u001b[0m\u001b[0mbegin\u001b[0m\u001b[1;33m(\u001b[0m\u001b[1;33m)\u001b[0m\u001b[1;33m\u001b[0m\u001b[1;33m\u001b[0m\u001b[0m\n\u001b[0m\u001b[0;32m   1345\u001b[0m             \u001b[1;32mexcept\u001b[0m \u001b[0mConnectionError\u001b[0m\u001b[1;33m:\u001b[0m\u001b[1;33m\u001b[0m\u001b[1;33m\u001b[0m\u001b[0m\n\u001b[0;32m   1346\u001b[0m                 \u001b[0mself\u001b[0m\u001b[1;33m.\u001b[0m\u001b[0mclose\u001b[0m\u001b[1;33m(\u001b[0m\u001b[1;33m)\u001b[0m\u001b[1;33m\u001b[0m\u001b[1;33m\u001b[0m\u001b[0m\n",
      "\u001b[1;32mC:\\users\\admin\\anaconda3\\lib\\http\\client.py\u001b[0m in \u001b[0;36mbegin\u001b[1;34m(self)\u001b[0m\n\u001b[0;32m    304\u001b[0m         \u001b[1;31m# read until we get a non-100 response\u001b[0m\u001b[1;33m\u001b[0m\u001b[1;33m\u001b[0m\u001b[1;33m\u001b[0m\u001b[0m\n\u001b[0;32m    305\u001b[0m         \u001b[1;32mwhile\u001b[0m \u001b[1;32mTrue\u001b[0m\u001b[1;33m:\u001b[0m\u001b[1;33m\u001b[0m\u001b[1;33m\u001b[0m\u001b[0m\n\u001b[1;32m--> 306\u001b[1;33m             \u001b[0mversion\u001b[0m\u001b[1;33m,\u001b[0m \u001b[0mstatus\u001b[0m\u001b[1;33m,\u001b[0m \u001b[0mreason\u001b[0m \u001b[1;33m=\u001b[0m \u001b[0mself\u001b[0m\u001b[1;33m.\u001b[0m\u001b[0m_read_status\u001b[0m\u001b[1;33m(\u001b[0m\u001b[1;33m)\u001b[0m\u001b[1;33m\u001b[0m\u001b[1;33m\u001b[0m\u001b[0m\n\u001b[0m\u001b[0;32m    307\u001b[0m             \u001b[1;32mif\u001b[0m \u001b[0mstatus\u001b[0m \u001b[1;33m!=\u001b[0m \u001b[0mCONTINUE\u001b[0m\u001b[1;33m:\u001b[0m\u001b[1;33m\u001b[0m\u001b[1;33m\u001b[0m\u001b[0m\n\u001b[0;32m    308\u001b[0m                 \u001b[1;32mbreak\u001b[0m\u001b[1;33m\u001b[0m\u001b[1;33m\u001b[0m\u001b[0m\n",
      "\u001b[1;32mC:\\users\\admin\\anaconda3\\lib\\http\\client.py\u001b[0m in \u001b[0;36m_read_status\u001b[1;34m(self)\u001b[0m\n\u001b[0;32m    265\u001b[0m \u001b[1;33m\u001b[0m\u001b[0m\n\u001b[0;32m    266\u001b[0m     \u001b[1;32mdef\u001b[0m \u001b[0m_read_status\u001b[0m\u001b[1;33m(\u001b[0m\u001b[0mself\u001b[0m\u001b[1;33m)\u001b[0m\u001b[1;33m:\u001b[0m\u001b[1;33m\u001b[0m\u001b[1;33m\u001b[0m\u001b[0m\n\u001b[1;32m--> 267\u001b[1;33m         \u001b[0mline\u001b[0m \u001b[1;33m=\u001b[0m \u001b[0mstr\u001b[0m\u001b[1;33m(\u001b[0m\u001b[0mself\u001b[0m\u001b[1;33m.\u001b[0m\u001b[0mfp\u001b[0m\u001b[1;33m.\u001b[0m\u001b[0mreadline\u001b[0m\u001b[1;33m(\u001b[0m\u001b[0m_MAXLINE\u001b[0m \u001b[1;33m+\u001b[0m \u001b[1;36m1\u001b[0m\u001b[1;33m)\u001b[0m\u001b[1;33m,\u001b[0m \u001b[1;34m\"iso-8859-1\"\u001b[0m\u001b[1;33m)\u001b[0m\u001b[1;33m\u001b[0m\u001b[1;33m\u001b[0m\u001b[0m\n\u001b[0m\u001b[0;32m    268\u001b[0m         \u001b[1;32mif\u001b[0m \u001b[0mlen\u001b[0m\u001b[1;33m(\u001b[0m\u001b[0mline\u001b[0m\u001b[1;33m)\u001b[0m \u001b[1;33m>\u001b[0m \u001b[0m_MAXLINE\u001b[0m\u001b[1;33m:\u001b[0m\u001b[1;33m\u001b[0m\u001b[1;33m\u001b[0m\u001b[0m\n\u001b[0;32m    269\u001b[0m             \u001b[1;32mraise\u001b[0m \u001b[0mLineTooLong\u001b[0m\u001b[1;33m(\u001b[0m\u001b[1;34m\"status line\"\u001b[0m\u001b[1;33m)\u001b[0m\u001b[1;33m\u001b[0m\u001b[1;33m\u001b[0m\u001b[0m\n",
      "\u001b[1;32mC:\\users\\admin\\anaconda3\\lib\\socket.py\u001b[0m in \u001b[0;36mreadinto\u001b[1;34m(self, b)\u001b[0m\n\u001b[0;32m    587\u001b[0m         \u001b[1;32mwhile\u001b[0m \u001b[1;32mTrue\u001b[0m\u001b[1;33m:\u001b[0m\u001b[1;33m\u001b[0m\u001b[1;33m\u001b[0m\u001b[0m\n\u001b[0;32m    588\u001b[0m             \u001b[1;32mtry\u001b[0m\u001b[1;33m:\u001b[0m\u001b[1;33m\u001b[0m\u001b[1;33m\u001b[0m\u001b[0m\n\u001b[1;32m--> 589\u001b[1;33m                 \u001b[1;32mreturn\u001b[0m \u001b[0mself\u001b[0m\u001b[1;33m.\u001b[0m\u001b[0m_sock\u001b[0m\u001b[1;33m.\u001b[0m\u001b[0mrecv_into\u001b[0m\u001b[1;33m(\u001b[0m\u001b[0mb\u001b[0m\u001b[1;33m)\u001b[0m\u001b[1;33m\u001b[0m\u001b[1;33m\u001b[0m\u001b[0m\n\u001b[0m\u001b[0;32m    590\u001b[0m             \u001b[1;32mexcept\u001b[0m \u001b[0mtimeout\u001b[0m\u001b[1;33m:\u001b[0m\u001b[1;33m\u001b[0m\u001b[1;33m\u001b[0m\u001b[0m\n\u001b[0;32m    591\u001b[0m                 \u001b[0mself\u001b[0m\u001b[1;33m.\u001b[0m\u001b[0m_timeout_occurred\u001b[0m \u001b[1;33m=\u001b[0m \u001b[1;32mTrue\u001b[0m\u001b[1;33m\u001b[0m\u001b[1;33m\u001b[0m\u001b[0m\n",
      "\u001b[1;32mC:\\users\\admin\\anaconda3\\lib\\ssl.py\u001b[0m in \u001b[0;36mrecv_into\u001b[1;34m(self, buffer, nbytes, flags)\u001b[0m\n\u001b[0;32m   1069\u001b[0m                   \u001b[1;34m\"non-zero flags not allowed in calls to recv_into() on %s\"\u001b[0m \u001b[1;33m%\u001b[0m\u001b[1;33m\u001b[0m\u001b[1;33m\u001b[0m\u001b[0m\n\u001b[0;32m   1070\u001b[0m                   self.__class__)\n\u001b[1;32m-> 1071\u001b[1;33m             \u001b[1;32mreturn\u001b[0m \u001b[0mself\u001b[0m\u001b[1;33m.\u001b[0m\u001b[0mread\u001b[0m\u001b[1;33m(\u001b[0m\u001b[0mnbytes\u001b[0m\u001b[1;33m,\u001b[0m \u001b[0mbuffer\u001b[0m\u001b[1;33m)\u001b[0m\u001b[1;33m\u001b[0m\u001b[1;33m\u001b[0m\u001b[0m\n\u001b[0m\u001b[0;32m   1072\u001b[0m         \u001b[1;32melse\u001b[0m\u001b[1;33m:\u001b[0m\u001b[1;33m\u001b[0m\u001b[1;33m\u001b[0m\u001b[0m\n\u001b[0;32m   1073\u001b[0m             \u001b[1;32mreturn\u001b[0m \u001b[0msuper\u001b[0m\u001b[1;33m(\u001b[0m\u001b[1;33m)\u001b[0m\u001b[1;33m.\u001b[0m\u001b[0mrecv_into\u001b[0m\u001b[1;33m(\u001b[0m\u001b[0mbuffer\u001b[0m\u001b[1;33m,\u001b[0m \u001b[0mnbytes\u001b[0m\u001b[1;33m,\u001b[0m \u001b[0mflags\u001b[0m\u001b[1;33m)\u001b[0m\u001b[1;33m\u001b[0m\u001b[1;33m\u001b[0m\u001b[0m\n",
      "\u001b[1;32mC:\\users\\admin\\anaconda3\\lib\\ssl.py\u001b[0m in \u001b[0;36mread\u001b[1;34m(self, len, buffer)\u001b[0m\n\u001b[0;32m    927\u001b[0m         \u001b[1;32mtry\u001b[0m\u001b[1;33m:\u001b[0m\u001b[1;33m\u001b[0m\u001b[1;33m\u001b[0m\u001b[0m\n\u001b[0;32m    928\u001b[0m             \u001b[1;32mif\u001b[0m \u001b[0mbuffer\u001b[0m \u001b[1;32mis\u001b[0m \u001b[1;32mnot\u001b[0m \u001b[1;32mNone\u001b[0m\u001b[1;33m:\u001b[0m\u001b[1;33m\u001b[0m\u001b[1;33m\u001b[0m\u001b[0m\n\u001b[1;32m--> 929\u001b[1;33m                 \u001b[1;32mreturn\u001b[0m \u001b[0mself\u001b[0m\u001b[1;33m.\u001b[0m\u001b[0m_sslobj\u001b[0m\u001b[1;33m.\u001b[0m\u001b[0mread\u001b[0m\u001b[1;33m(\u001b[0m\u001b[0mlen\u001b[0m\u001b[1;33m,\u001b[0m \u001b[0mbuffer\u001b[0m\u001b[1;33m)\u001b[0m\u001b[1;33m\u001b[0m\u001b[1;33m\u001b[0m\u001b[0m\n\u001b[0m\u001b[0;32m    930\u001b[0m             \u001b[1;32melse\u001b[0m\u001b[1;33m:\u001b[0m\u001b[1;33m\u001b[0m\u001b[1;33m\u001b[0m\u001b[0m\n\u001b[0;32m    931\u001b[0m                 \u001b[1;32mreturn\u001b[0m \u001b[0mself\u001b[0m\u001b[1;33m.\u001b[0m\u001b[0m_sslobj\u001b[0m\u001b[1;33m.\u001b[0m\u001b[0mread\u001b[0m\u001b[1;33m(\u001b[0m\u001b[0mlen\u001b[0m\u001b[1;33m)\u001b[0m\u001b[1;33m\u001b[0m\u001b[1;33m\u001b[0m\u001b[0m\n",
      "\u001b[1;31mKeyboardInterrupt\u001b[0m: "
     ]
    }
   ],
   "source": [
    "from ipynb.fs.full.genius_scrapping import m_art_list, f_art_list"
   ]
  },
  {
   "cell_type": "code",
   "execution_count": 5,
   "metadata": {},
   "outputs": [
    {
     "data": {
      "text/plain": [
       "2.0"
      ]
     },
     "execution_count": 5,
     "metadata": {},
     "output_type": "execute_result"
    }
   ],
   "source": [
    "df.groupby('artist_name').count()['lyrics'].median()"
   ]
  },
  {
   "cell_type": "code",
   "execution_count": 27,
   "metadata": {
    "collapsed": true
   },
   "outputs": [
    {
     "name": "stdout",
     "output_type": "stream",
     "text": [
      "311 1\n",
      "a tribe called quest 1\n",
      "alan jackson 1\n",
      "alborosie 1\n",
      "all them witches 1\n",
      "arctic monkeys 1\n",
      "ballyhoo! 1\n",
      "between the buried and me 1\n",
      "black rebel motorcycle club 1\n",
      "blink-182 1\n",
      "blues saraceno 1\n",
      "boney james 1\n",
      "breaking benjamin 1\n",
      "bring me the horizon 1\n",
      "buddy guy 1\n",
      "cage the elephant 1\n",
      "cake 1\n",
      "carrie underwood 0\n",
      "chevelle 1\n",
      "coldplay 1\n",
      "creed 1\n",
      "dave matthews band 1\n",
      "death from above 1979 1\n",
      "deftones 1\n",
      "diana krall 0\n",
      "dierks bentley 1\n",
      "dirty heads 1\n",
      "dispatch 1\n",
      "drake 1\n",
      "eagles of death metal 1\n",
      "easy star all-stars 1\n",
      "ella fitzgerald 0\n",
      "eric church 1\n",
      "eric clapton 1\n",
      "fall out boy 1\n",
      "foo fighters 1\n",
      "g. love & special sauce 1\n",
      "gary allan 1\n",
      "george strait 1\n",
      "godsmack 1\n",
      "gov't mule 1\n",
      "green day \n"
     ]
    },
    {
     "ename": "ValueError",
     "evalue": "invalid literal for int() with base 10: ''",
     "output_type": "error",
     "traceback": [
      "\u001b[1;31m---------------------------------------------------------------------------\u001b[0m",
      "\u001b[1;31mValueError\u001b[0m                                Traceback (most recent call last)",
      "\u001b[1;32m<ipython-input-27-9836500d5409>\u001b[0m in \u001b[0;36m<module>\u001b[1;34m\u001b[0m\n\u001b[0;32m      1\u001b[0m \u001b[0mgender_dict\u001b[0m \u001b[1;33m=\u001b[0m \u001b[1;33m{\u001b[0m\u001b[1;33m}\u001b[0m\u001b[1;33m\u001b[0m\u001b[1;33m\u001b[0m\u001b[0m\n\u001b[0;32m      2\u001b[0m \u001b[1;32mfor\u001b[0m \u001b[0man\u001b[0m \u001b[1;32min\u001b[0m \u001b[0mdf_artists_gt15\u001b[0m\u001b[1;33m:\u001b[0m\u001b[1;33m\u001b[0m\u001b[1;33m\u001b[0m\u001b[0m\n\u001b[1;32m----> 3\u001b[1;33m     \u001b[0mgender_dict\u001b[0m\u001b[1;33m[\u001b[0m\u001b[0man\u001b[0m\u001b[1;33m]\u001b[0m \u001b[1;33m=\u001b[0m \u001b[0mint\u001b[0m\u001b[1;33m(\u001b[0m\u001b[0minput\u001b[0m\u001b[1;33m(\u001b[0m\u001b[1;34mf\"{an} \"\u001b[0m\u001b[1;33m)\u001b[0m\u001b[1;33m)\u001b[0m\u001b[1;33m\u001b[0m\u001b[1;33m\u001b[0m\u001b[0m\n\u001b[0m",
      "\u001b[1;31mValueError\u001b[0m: invalid literal for int() with base 10: ''"
     ]
    }
   ],
   "source": [
    "gender_dict = {}\n",
    "for an in df_artists_gt15:\n",
    "    gender_dict[an] = int(input(f\"{an} \"))"
   ]
  },
  {
   "cell_type": "code",
   "execution_count": 28,
   "metadata": {
    "collapsed": true
   },
   "outputs": [
    {
     "name": "stdout",
     "output_type": "stream",
     "text": [
      "green day 1\n",
      "imagine dragons 1\n",
      "incubus 1\n",
      "iration 1\n",
      "jamiroquai 1\n",
      "jason aldean 1\n",
      "jj grey & mofro 1\n",
      "joe bonamassa 1\n",
      "john mayer 1\n",
      "johnny cash 1\n",
      "jonny lang 1\n",
      "kanye west 1\n",
      "keith urban 1\n",
      "kenny chesney 1\n",
      "kenny wayne shepherd 1\n",
      "korn 1\n",
      "lil wayne 1\n",
      "luciano 1\n",
      "mac miller 1\n",
      "meshuggah 1\n",
      "metallica 1\n",
      "michael franti & spearhead 1\n",
      "miranda lambert 1\n",
      "modest mouse 1\n",
      "morcheeba 0\n",
      "mumford & sons 1\n",
      "muse 1\n",
      "my morning jacket 1\n",
      "one direction 1\n",
      "panic! at the disco 1\n",
      "pepper 1\n",
      "phish 1\n",
      "queens of the stone age 1\n",
      "radiohead 1\n",
      "rage against the machine 1\n",
      "randy rogers band 1\n",
      "rascal flatts 1\n",
      "royce da 5'9\" 1\n",
      "shinedown 1\n",
      "sizzla 1\n",
      "skillet 1\n",
      "slightly stoopid 1\n",
      "soja 1\n",
      "staind 1\n",
      "stick figure 1\n",
      "system of a down 1\n",
      "tedeschi trucks band 0\n",
      "tesseract 1\n",
      "the black angels 2\n",
      "the black keys 1\n",
      "the dear hunter 1\n",
      "the green 1\n",
      "the kills 0\n",
      "the movement 1\n",
      "the weeknd 1\n",
      "the white stripes 1\n",
      "the wood brothers 1\n",
      "thee oh sees 2\n",
      "thievery corporation 2\n",
      "three days grace 1\n",
      "tim mcgraw 1\n",
      "tool 1\n",
      "trace adkins 1\n",
      "twenty one pilots 1\n",
      "ty segall 1\n",
      "vybz kartel 2\n",
      "widespread panic 2\n",
      "xavier rudd 2\n",
      "zac brown band 2\n",
      "ziggy marley 1\n"
     ]
    }
   ],
   "source": [
    "for an in df_artists_gt15:\n",
    "    if an not in gender_dict:\n",
    "        gender_dict[an] = int(input(f\"{an} \"))"
   ]
  },
  {
   "cell_type": "code",
   "execution_count": 29,
   "metadata": {},
   "outputs": [
    {
     "data": {
      "text/plain": [
       "{1: 98, 0: 6, 2: 7}"
      ]
     },
     "execution_count": 29,
     "metadata": {},
     "output_type": "execute_result"
    }
   ],
   "source": [
    "counter_gender = {}\n",
    "for an in gender_dict:\n",
    "    gend = gender_dict[an]\n",
    "    if gend in counter_gender:\n",
    "        counter_gender[gend] += 1\n",
    "    else:\n",
    "        counter_gender[gend] = 1\n",
    "        \n",
    "counter_gender"
   ]
  },
  {
   "cell_type": "code",
   "execution_count": 33,
   "metadata": {},
   "outputs": [
    {
     "data": {
      "text/plain": [
       "7941"
      ]
     },
     "execution_count": 33,
     "metadata": {},
     "output_type": "execute_result"
    }
   ],
   "source": [
    "gender_df = pd.read_csv('singers_gender.csv')\n",
    "female_artists = [x.lower() for x in gender_df[gender_df['gender'] == 'female']['artist'].to_list()]\n",
    "len(female_artists)"
   ]
  },
  {
   "cell_type": "code",
   "execution_count": null,
   "metadata": {},
   "outputs": [],
   "source": []
  },
  {
   "cell_type": "code",
   "execution_count": 31,
   "metadata": {},
   "outputs": [
    {
     "data": {
      "text/plain": [
       "3769"
      ]
     },
     "execution_count": 31,
     "metadata": {},
     "output_type": "execute_result"
    }
   ],
   "source": [
    "len(df_artists_lower)"
   ]
  },
  {
   "cell_type": "code",
   "execution_count": 34,
   "metadata": {},
   "outputs": [],
   "source": [
    "female_artists_in_df = []\n",
    "for x in female_artists:\n",
    "    if x in df_artists_lower:\n",
    "        female_artists_in_df.append(x)"
   ]
  },
  {
   "cell_type": "code",
   "execution_count": 36,
   "metadata": {},
   "outputs": [
    {
     "data": {
      "text/plain": [
       "278"
      ]
     },
     "execution_count": 36,
     "metadata": {},
     "output_type": "execute_result"
    }
   ],
   "source": [
    "len(female_artists_in_df)"
   ]
  },
  {
   "cell_type": "code",
   "execution_count": 38,
   "metadata": {},
   "outputs": [
    {
     "data": {
      "text/html": [
       "<div>\n",
       "<style scoped>\n",
       "    .dataframe tbody tr th:only-of-type {\n",
       "        vertical-align: middle;\n",
       "    }\n",
       "\n",
       "    .dataframe tbody tr th {\n",
       "        vertical-align: top;\n",
       "    }\n",
       "\n",
       "    .dataframe thead th {\n",
       "        text-align: right;\n",
       "    }\n",
       "</style>\n",
       "<table border=\"1\" class=\"dataframe\">\n",
       "  <thead>\n",
       "    <tr style=\"text-align: right;\">\n",
       "      <th></th>\n",
       "      <th>artist_name</th>\n",
       "      <th>lyrics</th>\n",
       "    </tr>\n",
       "  </thead>\n",
       "  <tbody>\n",
       "    <tr>\n",
       "      <th>4252</th>\n",
       "      <td>the smashing pumpkins</td>\n",
       "      <td>funny pretend child softly steal blanket sky r...</td>\n",
       "    </tr>\n",
       "    <tr>\n",
       "      <th>4253</th>\n",
       "      <td>shania twain</td>\n",
       "      <td>strong wrong choose stand lose nights long wom...</td>\n",
       "    </tr>\n",
       "    <tr>\n",
       "      <th>4254</th>\n",
       "      <td>mariah carey</td>\n",
       "      <td>come casual flow suddenly defenses start talk ...</td>\n",
       "    </tr>\n",
       "    <tr>\n",
       "      <th>4255</th>\n",
       "      <td>no doubt</td>\n",
       "      <td>remain seat permanecer sentados favor magical ...</td>\n",
       "    </tr>\n",
       "    <tr>\n",
       "      <th>4256</th>\n",
       "      <td>john prine</td>\n",
       "      <td>stand stand peaceful water stand peaceful wate...</td>\n",
       "    </tr>\n",
       "    <tr>\n",
       "      <th>...</th>\n",
       "      <td>...</td>\n",
       "      <td>...</td>\n",
       "    </tr>\n",
       "    <tr>\n",
       "      <th>28367</th>\n",
       "      <td>mack 10</td>\n",
       "      <td>cause fuck leave scar tick tock clock come kno...</td>\n",
       "    </tr>\n",
       "    <tr>\n",
       "      <th>28368</th>\n",
       "      <td>m.o.p.</td>\n",
       "      <td>minks things chain ring braclets yap fame come...</td>\n",
       "    </tr>\n",
       "    <tr>\n",
       "      <th>28369</th>\n",
       "      <td>nine</td>\n",
       "      <td>get ban get ban stick crack relax plan attack ...</td>\n",
       "    </tr>\n",
       "    <tr>\n",
       "      <th>28370</th>\n",
       "      <td>will smith</td>\n",
       "      <td>check check yeah yeah hear thing call switch g...</td>\n",
       "    </tr>\n",
       "    <tr>\n",
       "      <th>28371</th>\n",
       "      <td>jeezy</td>\n",
       "      <td>remix killer alive remix thriller trap bitch s...</td>\n",
       "    </tr>\n",
       "  </tbody>\n",
       "</table>\n",
       "<p>12496 rows × 2 columns</p>\n",
       "</div>"
      ],
      "text/plain": [
       "                 artist_name  \\\n",
       "4252   the smashing pumpkins   \n",
       "4253            shania twain   \n",
       "4254            mariah carey   \n",
       "4255                no doubt   \n",
       "4256              john prine   \n",
       "...                      ...   \n",
       "28367                mack 10   \n",
       "28368                 m.o.p.   \n",
       "28369                   nine   \n",
       "28370             will smith   \n",
       "28371                  jeezy   \n",
       "\n",
       "                                                  lyrics  \n",
       "4252   funny pretend child softly steal blanket sky r...  \n",
       "4253   strong wrong choose stand lose nights long wom...  \n",
       "4254   come casual flow suddenly defenses start talk ...  \n",
       "4255   remain seat permanecer sentados favor magical ...  \n",
       "4256   stand stand peaceful water stand peaceful wate...  \n",
       "...                                                  ...  \n",
       "28367  cause fuck leave scar tick tock clock come kno...  \n",
       "28368  minks things chain ring braclets yap fame come...  \n",
       "28369  get ban get ban stick crack relax plan attack ...  \n",
       "28370  check check yeah yeah hear thing call switch g...  \n",
       "28371  remix killer alive remix thriller trap bitch s...  \n",
       "\n",
       "[12496 rows x 2 columns]"
      ]
     },
     "execution_count": 38,
     "metadata": {},
     "output_type": "execute_result"
    }
   ],
   "source": [
    "df"
   ]
  },
  {
   "cell_type": "code",
   "execution_count": 40,
   "metadata": {},
   "outputs": [
    {
     "name": "stdout",
     "output_type": "stream",
     "text": [
      "7941\n",
      "7947\n"
     ]
    }
   ],
   "source": [
    "print(len(female_artists))\n",
    "female_artists.extend([key for key in gender_dict if gender_dict[key] == 0])\n",
    "print(len(female_artists))"
   ]
  },
  {
   "cell_type": "code",
   "execution_count": null,
   "metadata": {},
   "outputs": [],
   "source": [
    "df[]"
   ]
  },
  {
   "cell_type": "code",
   "execution_count": 41,
   "metadata": {},
   "outputs": [
    {
     "data": {
      "text/html": [
       "<div>\n",
       "<style scoped>\n",
       "    .dataframe tbody tr th:only-of-type {\n",
       "        vertical-align: middle;\n",
       "    }\n",
       "\n",
       "    .dataframe tbody tr th {\n",
       "        vertical-align: top;\n",
       "    }\n",
       "\n",
       "    .dataframe thead th {\n",
       "        text-align: right;\n",
       "    }\n",
       "</style>\n",
       "<table border=\"1\" class=\"dataframe\">\n",
       "  <thead>\n",
       "    <tr style=\"text-align: right;\">\n",
       "      <th></th>\n",
       "      <th>artist_name</th>\n",
       "      <th>lyrics</th>\n",
       "    </tr>\n",
       "  </thead>\n",
       "  <tbody>\n",
       "    <tr>\n",
       "      <th>4253</th>\n",
       "      <td>shania twain</td>\n",
       "      <td>strong wrong choose stand lose nights long wom...</td>\n",
       "    </tr>\n",
       "    <tr>\n",
       "      <th>4254</th>\n",
       "      <td>mariah carey</td>\n",
       "      <td>come casual flow suddenly defenses start talk ...</td>\n",
       "    </tr>\n",
       "    <tr>\n",
       "      <th>4266</th>\n",
       "      <td>whitney houston</td>\n",
       "      <td>hurt feel think cry hurt think hurt gotta outt...</td>\n",
       "    </tr>\n",
       "    <tr>\n",
       "      <th>4270</th>\n",
       "      <td>alanis morissette</td>\n",
       "      <td>choice hear state time think treat like prince...</td>\n",
       "    </tr>\n",
       "    <tr>\n",
       "      <th>4274</th>\n",
       "      <td>jewel</td>\n",
       "      <td>word touch deeply core tremble think realize e...</td>\n",
       "    </tr>\n",
       "    <tr>\n",
       "      <th>...</th>\n",
       "      <td>...</td>\n",
       "      <td>...</td>\n",
       "    </tr>\n",
       "    <tr>\n",
       "      <th>28145</th>\n",
       "      <td>kelly rowland</td>\n",
       "      <td>simply have wonderful christmastime simply hav...</td>\n",
       "    </tr>\n",
       "    <tr>\n",
       "      <th>28234</th>\n",
       "      <td>ms. jade</td>\n",
       "      <td>ching ching ching ching ching money spend toda...</td>\n",
       "    </tr>\n",
       "    <tr>\n",
       "      <th>28324</th>\n",
       "      <td>aaliyah</td>\n",
       "      <td>dirty south uhhuh feel feel east coast feel fe...</td>\n",
       "    </tr>\n",
       "    <tr>\n",
       "      <th>28347</th>\n",
       "      <td>aaliyah</td>\n",
       "      <td>passion instant sweat bead feel cupid shoot he...</td>\n",
       "    </tr>\n",
       "    <tr>\n",
       "      <th>28353</th>\n",
       "      <td>cassidy</td>\n",
       "      <td>work niggas beef gonna spray pump street nigga...</td>\n",
       "    </tr>\n",
       "  </tbody>\n",
       "</table>\n",
       "<p>975 rows × 2 columns</p>\n",
       "</div>"
      ],
      "text/plain": [
       "             artist_name                                             lyrics\n",
       "4253        shania twain  strong wrong choose stand lose nights long wom...\n",
       "4254        mariah carey  come casual flow suddenly defenses start talk ...\n",
       "4266     whitney houston  hurt feel think cry hurt think hurt gotta outt...\n",
       "4270   alanis morissette  choice hear state time think treat like prince...\n",
       "4274               jewel  word touch deeply core tremble think realize e...\n",
       "...                  ...                                                ...\n",
       "28145      kelly rowland  simply have wonderful christmastime simply hav...\n",
       "28234           ms. jade  ching ching ching ching ching money spend toda...\n",
       "28324            aaliyah  dirty south uhhuh feel feel east coast feel fe...\n",
       "28347            aaliyah  passion instant sweat bead feel cupid shoot he...\n",
       "28353            cassidy  work niggas beef gonna spray pump street nigga...\n",
       "\n",
       "[975 rows x 2 columns]"
      ]
     },
     "execution_count": 41,
     "metadata": {},
     "output_type": "execute_result"
    }
   ],
   "source": [
    "fem_df = df[df[\"artist_name\"].isin(female_artists)]\n",
    "fem_df"
   ]
  },
  {
   "cell_type": "code",
   "execution_count": 46,
   "metadata": {},
   "outputs": [
    {
     "data": {
      "text/plain": [
       "7956"
      ]
     },
     "execution_count": 46,
     "metadata": {},
     "output_type": "execute_result"
    }
   ],
   "source": [
    "df_selected_artists = pd.read_excel('eng_artists.xlsx', header=0)\n",
    "#male_artists = df_selected_artists['men'].to_list()\n",
    "female_artists.extend(df_selected_artists['women'].to_list())\n",
    "female_artists = list(set(female_artists))\n",
    "len(female_artists)"
   ]
  },
  {
   "cell_type": "code",
   "execution_count": 47,
   "metadata": {},
   "outputs": [],
   "source": [
    "sel_male_artists = df_selected_artists['men'].to_list()\n",
    "male_artists"
   ]
  },
  {
   "cell_type": "code",
   "execution_count": 48,
   "metadata": {},
   "outputs": [],
   "source": [
    "male_artists = [x.lower() for x in gender_df[gender_df['gender'] == 'male']['artist'].to_list()]"
   ]
  },
  {
   "cell_type": "code",
   "execution_count": 49,
   "metadata": {},
   "outputs": [
    {
     "data": {
      "text/html": [
       "<div>\n",
       "<style scoped>\n",
       "    .dataframe tbody tr th:only-of-type {\n",
       "        vertical-align: middle;\n",
       "    }\n",
       "\n",
       "    .dataframe tbody tr th {\n",
       "        vertical-align: top;\n",
       "    }\n",
       "\n",
       "    .dataframe thead th {\n",
       "        text-align: right;\n",
       "    }\n",
       "</style>\n",
       "<table border=\"1\" class=\"dataframe\">\n",
       "  <thead>\n",
       "    <tr style=\"text-align: right;\">\n",
       "      <th></th>\n",
       "      <th>artist_name</th>\n",
       "      <th>lyrics</th>\n",
       "    </tr>\n",
       "  </thead>\n",
       "  <tbody>\n",
       "    <tr>\n",
       "      <th>4256</th>\n",
       "      <td>john prine</td>\n",
       "      <td>stand stand peaceful water stand peaceful wate...</td>\n",
       "    </tr>\n",
       "    <tr>\n",
       "      <th>4264</th>\n",
       "      <td>coolio</td>\n",
       "      <td>woman floor gotta gotta gotta gotta everybody ...</td>\n",
       "    </tr>\n",
       "    <tr>\n",
       "      <th>4267</th>\n",
       "      <td>ol' dirty bastard</td>\n",
       "      <td>beat slam beat slam rugged program jam touch s...</td>\n",
       "    </tr>\n",
       "    <tr>\n",
       "      <th>4268</th>\n",
       "      <td>raekwon</td>\n",
       "      <td>tell long time fuck little monkey fuck fuck th...</td>\n",
       "    </tr>\n",
       "    <tr>\n",
       "      <th>4269</th>\n",
       "      <td>coolio</td>\n",
       "      <td>walk valley death look life realize nothin lea...</td>\n",
       "    </tr>\n",
       "    <tr>\n",
       "      <th>...</th>\n",
       "      <td>...</td>\n",
       "      <td>...</td>\n",
       "    </tr>\n",
       "    <tr>\n",
       "      <th>28363</th>\n",
       "      <td>ja rule</td>\n",
       "      <td>spit shit damn nigga ridiculous nigga lose inc...</td>\n",
       "    </tr>\n",
       "    <tr>\n",
       "      <th>28364</th>\n",
       "      <td>nipsey hussle</td>\n",
       "      <td>look comin straight slauson crazy motherfucker...</td>\n",
       "    </tr>\n",
       "    <tr>\n",
       "      <th>28367</th>\n",
       "      <td>mack 10</td>\n",
       "      <td>cause fuck leave scar tick tock clock come kno...</td>\n",
       "    </tr>\n",
       "    <tr>\n",
       "      <th>28369</th>\n",
       "      <td>nine</td>\n",
       "      <td>get ban get ban stick crack relax plan attack ...</td>\n",
       "    </tr>\n",
       "    <tr>\n",
       "      <th>28370</th>\n",
       "      <td>will smith</td>\n",
       "      <td>check check yeah yeah hear thing call switch g...</td>\n",
       "    </tr>\n",
       "  </tbody>\n",
       "</table>\n",
       "<p>3069 rows × 2 columns</p>\n",
       "</div>"
      ],
      "text/plain": [
       "             artist_name                                             lyrics\n",
       "4256          john prine  stand stand peaceful water stand peaceful wate...\n",
       "4264              coolio  woman floor gotta gotta gotta gotta everybody ...\n",
       "4267   ol' dirty bastard  beat slam beat slam rugged program jam touch s...\n",
       "4268             raekwon  tell long time fuck little monkey fuck fuck th...\n",
       "4269              coolio  walk valley death look life realize nothin lea...\n",
       "...                  ...                                                ...\n",
       "28363            ja rule  spit shit damn nigga ridiculous nigga lose inc...\n",
       "28364      nipsey hussle  look comin straight slauson crazy motherfucker...\n",
       "28367            mack 10  cause fuck leave scar tick tock clock come kno...\n",
       "28369               nine  get ban get ban stick crack relax plan attack ...\n",
       "28370         will smith  check check yeah yeah hear thing call switch g...\n",
       "\n",
       "[3069 rows x 2 columns]"
      ]
     },
     "execution_count": 49,
     "metadata": {},
     "output_type": "execute_result"
    }
   ],
   "source": [
    "male_df = df[df[\"artist_name\"].isin(male_artists)]\n",
    "male_df"
   ]
  },
  {
   "cell_type": "code",
   "execution_count": 52,
   "metadata": {},
   "outputs": [
    {
     "name": "stdout",
     "output_type": "stream",
     "text": [
      "15361\n",
      "15459\n",
      "15324\n"
     ]
    }
   ],
   "source": [
    "print(len(male_artists))\n",
    "male_artists.extend([key for key in gender_dict if gender_dict[key] == 1])\n",
    "print(len(male_artists))\n",
    "male_artists.extend(sel_male_artists)\n",
    "male_artists = list(set(male_artists))\n",
    "print(len(male_artists))"
   ]
  },
  {
   "cell_type": "code",
   "execution_count": 53,
   "metadata": {},
   "outputs": [
    {
     "data": {
      "text/html": [
       "<div>\n",
       "<style scoped>\n",
       "    .dataframe tbody tr th:only-of-type {\n",
       "        vertical-align: middle;\n",
       "    }\n",
       "\n",
       "    .dataframe tbody tr th {\n",
       "        vertical-align: top;\n",
       "    }\n",
       "\n",
       "    .dataframe thead th {\n",
       "        text-align: right;\n",
       "    }\n",
       "</style>\n",
       "<table border=\"1\" class=\"dataframe\">\n",
       "  <thead>\n",
       "    <tr style=\"text-align: right;\">\n",
       "      <th></th>\n",
       "      <th>artist_name</th>\n",
       "      <th>lyrics</th>\n",
       "    </tr>\n",
       "  </thead>\n",
       "  <tbody>\n",
       "    <tr>\n",
       "      <th>4256</th>\n",
       "      <td>john prine</td>\n",
       "      <td>stand stand peaceful water stand peaceful wate...</td>\n",
       "    </tr>\n",
       "    <tr>\n",
       "      <th>4264</th>\n",
       "      <td>coolio</td>\n",
       "      <td>woman floor gotta gotta gotta gotta everybody ...</td>\n",
       "    </tr>\n",
       "    <tr>\n",
       "      <th>4265</th>\n",
       "      <td>green day</td>\n",
       "      <td>mission decision lead path selfdestruction slo...</td>\n",
       "    </tr>\n",
       "    <tr>\n",
       "      <th>4267</th>\n",
       "      <td>ol' dirty bastard</td>\n",
       "      <td>beat slam beat slam rugged program jam touch s...</td>\n",
       "    </tr>\n",
       "    <tr>\n",
       "      <th>4268</th>\n",
       "      <td>raekwon</td>\n",
       "      <td>tell long time fuck little monkey fuck fuck th...</td>\n",
       "    </tr>\n",
       "    <tr>\n",
       "      <th>...</th>\n",
       "      <td>...</td>\n",
       "      <td>...</td>\n",
       "    </tr>\n",
       "    <tr>\n",
       "      <th>28363</th>\n",
       "      <td>ja rule</td>\n",
       "      <td>spit shit damn nigga ridiculous nigga lose inc...</td>\n",
       "    </tr>\n",
       "    <tr>\n",
       "      <th>28364</th>\n",
       "      <td>nipsey hussle</td>\n",
       "      <td>look comin straight slauson crazy motherfucker...</td>\n",
       "    </tr>\n",
       "    <tr>\n",
       "      <th>28367</th>\n",
       "      <td>mack 10</td>\n",
       "      <td>cause fuck leave scar tick tock clock come kno...</td>\n",
       "    </tr>\n",
       "    <tr>\n",
       "      <th>28369</th>\n",
       "      <td>nine</td>\n",
       "      <td>get ban get ban stick crack relax plan attack ...</td>\n",
       "    </tr>\n",
       "    <tr>\n",
       "      <th>28370</th>\n",
       "      <td>will smith</td>\n",
       "      <td>check check yeah yeah hear thing call switch g...</td>\n",
       "    </tr>\n",
       "  </tbody>\n",
       "</table>\n",
       "<p>4854 rows × 2 columns</p>\n",
       "</div>"
      ],
      "text/plain": [
       "             artist_name                                             lyrics\n",
       "4256          john prine  stand stand peaceful water stand peaceful wate...\n",
       "4264              coolio  woman floor gotta gotta gotta gotta everybody ...\n",
       "4265           green day  mission decision lead path selfdestruction slo...\n",
       "4267   ol' dirty bastard  beat slam beat slam rugged program jam touch s...\n",
       "4268             raekwon  tell long time fuck little monkey fuck fuck th...\n",
       "...                  ...                                                ...\n",
       "28363            ja rule  spit shit damn nigga ridiculous nigga lose inc...\n",
       "28364      nipsey hussle  look comin straight slauson crazy motherfucker...\n",
       "28367            mack 10  cause fuck leave scar tick tock clock come kno...\n",
       "28369               nine  get ban get ban stick crack relax plan attack ...\n",
       "28370         will smith  check check yeah yeah hear thing call switch g...\n",
       "\n",
       "[4854 rows x 2 columns]"
      ]
     },
     "execution_count": 53,
     "metadata": {},
     "output_type": "execute_result"
    }
   ],
   "source": [
    "male_df = df[df[\"artist_name\"].isin(male_artists)]\n",
    "male_df"
   ]
  },
  {
   "cell_type": "code",
   "execution_count": 54,
   "metadata": {},
   "outputs": [
    {
     "name": "stderr",
     "output_type": "stream",
     "text": [
      "C:\\users\\admin\\anaconda3\\lib\\site-packages\\ipykernel_launcher.py:1: SettingWithCopyWarning: \n",
      "A value is trying to be set on a copy of a slice from a DataFrame.\n",
      "Try using .loc[row_indexer,col_indexer] = value instead\n",
      "\n",
      "See the caveats in the documentation: https://pandas.pydata.org/pandas-docs/stable/user_guide/indexing.html#returning-a-view-versus-a-copy\n",
      "  \"\"\"Entry point for launching an IPython kernel.\n",
      "C:\\users\\admin\\anaconda3\\lib\\site-packages\\ipykernel_launcher.py:2: SettingWithCopyWarning: \n",
      "A value is trying to be set on a copy of a slice from a DataFrame.\n",
      "Try using .loc[row_indexer,col_indexer] = value instead\n",
      "\n",
      "See the caveats in the documentation: https://pandas.pydata.org/pandas-docs/stable/user_guide/indexing.html#returning-a-view-versus-a-copy\n",
      "  \n"
     ]
    }
   ],
   "source": [
    "male_df['gender'] = 1\n",
    "fem_df['gender'] = 0"
   ]
  },
  {
   "cell_type": "code",
   "execution_count": 55,
   "metadata": {},
   "outputs": [
    {
     "data": {
      "text/html": [
       "<div>\n",
       "<style scoped>\n",
       "    .dataframe tbody tr th:only-of-type {\n",
       "        vertical-align: middle;\n",
       "    }\n",
       "\n",
       "    .dataframe tbody tr th {\n",
       "        vertical-align: top;\n",
       "    }\n",
       "\n",
       "    .dataframe thead th {\n",
       "        text-align: right;\n",
       "    }\n",
       "</style>\n",
       "<table border=\"1\" class=\"dataframe\">\n",
       "  <thead>\n",
       "    <tr style=\"text-align: right;\">\n",
       "      <th></th>\n",
       "      <th>artist_name</th>\n",
       "      <th>lyrics</th>\n",
       "      <th>gender</th>\n",
       "    </tr>\n",
       "  </thead>\n",
       "  <tbody>\n",
       "    <tr>\n",
       "      <th>4253</th>\n",
       "      <td>shania twain</td>\n",
       "      <td>strong wrong choose stand lose nights long wom...</td>\n",
       "      <td>0</td>\n",
       "    </tr>\n",
       "    <tr>\n",
       "      <th>4254</th>\n",
       "      <td>mariah carey</td>\n",
       "      <td>come casual flow suddenly defenses start talk ...</td>\n",
       "      <td>0</td>\n",
       "    </tr>\n",
       "    <tr>\n",
       "      <th>4266</th>\n",
       "      <td>whitney houston</td>\n",
       "      <td>hurt feel think cry hurt think hurt gotta outt...</td>\n",
       "      <td>0</td>\n",
       "    </tr>\n",
       "    <tr>\n",
       "      <th>4270</th>\n",
       "      <td>alanis morissette</td>\n",
       "      <td>choice hear state time think treat like prince...</td>\n",
       "      <td>0</td>\n",
       "    </tr>\n",
       "    <tr>\n",
       "      <th>4274</th>\n",
       "      <td>jewel</td>\n",
       "      <td>word touch deeply core tremble think realize e...</td>\n",
       "      <td>0</td>\n",
       "    </tr>\n",
       "    <tr>\n",
       "      <th>...</th>\n",
       "      <td>...</td>\n",
       "      <td>...</td>\n",
       "      <td>...</td>\n",
       "    </tr>\n",
       "    <tr>\n",
       "      <th>28145</th>\n",
       "      <td>kelly rowland</td>\n",
       "      <td>simply have wonderful christmastime simply hav...</td>\n",
       "      <td>0</td>\n",
       "    </tr>\n",
       "    <tr>\n",
       "      <th>28234</th>\n",
       "      <td>ms. jade</td>\n",
       "      <td>ching ching ching ching ching money spend toda...</td>\n",
       "      <td>0</td>\n",
       "    </tr>\n",
       "    <tr>\n",
       "      <th>28324</th>\n",
       "      <td>aaliyah</td>\n",
       "      <td>dirty south uhhuh feel feel east coast feel fe...</td>\n",
       "      <td>0</td>\n",
       "    </tr>\n",
       "    <tr>\n",
       "      <th>28347</th>\n",
       "      <td>aaliyah</td>\n",
       "      <td>passion instant sweat bead feel cupid shoot he...</td>\n",
       "      <td>0</td>\n",
       "    </tr>\n",
       "    <tr>\n",
       "      <th>28353</th>\n",
       "      <td>cassidy</td>\n",
       "      <td>work niggas beef gonna spray pump street nigga...</td>\n",
       "      <td>0</td>\n",
       "    </tr>\n",
       "  </tbody>\n",
       "</table>\n",
       "<p>975 rows × 3 columns</p>\n",
       "</div>"
      ],
      "text/plain": [
       "             artist_name                                             lyrics  \\\n",
       "4253        shania twain  strong wrong choose stand lose nights long wom...   \n",
       "4254        mariah carey  come casual flow suddenly defenses start talk ...   \n",
       "4266     whitney houston  hurt feel think cry hurt think hurt gotta outt...   \n",
       "4270   alanis morissette  choice hear state time think treat like prince...   \n",
       "4274               jewel  word touch deeply core tremble think realize e...   \n",
       "...                  ...                                                ...   \n",
       "28145      kelly rowland  simply have wonderful christmastime simply hav...   \n",
       "28234           ms. jade  ching ching ching ching ching money spend toda...   \n",
       "28324            aaliyah  dirty south uhhuh feel feel east coast feel fe...   \n",
       "28347            aaliyah  passion instant sweat bead feel cupid shoot he...   \n",
       "28353            cassidy  work niggas beef gonna spray pump street nigga...   \n",
       "\n",
       "       gender  \n",
       "4253        0  \n",
       "4254        0  \n",
       "4266        0  \n",
       "4270        0  \n",
       "4274        0  \n",
       "...       ...  \n",
       "28145       0  \n",
       "28234       0  \n",
       "28324       0  \n",
       "28347       0  \n",
       "28353       0  \n",
       "\n",
       "[975 rows x 3 columns]"
      ]
     },
     "execution_count": 55,
     "metadata": {},
     "output_type": "execute_result"
    }
   ],
   "source": [
    "fem_df"
   ]
  },
  {
   "cell_type": "code",
   "execution_count": 68,
   "metadata": {},
   "outputs": [
    {
     "name": "stdout",
     "output_type": "stream",
     "text": [
      "strong wrong choose stand lose nights long woman need arm hold tenderly cause woman yeah woman need world want feel cold touch beautiful place kiss face woman need arm hold tenderly cause woman yeah woman need yeah woman need need baby yeah yeah baby yeah yeah need baby\n",
      "come casual flow suddenly defenses start talk sensual tone envelop lose selfcontrol baby melt away fall like rain time face wanna break anytime come baby melt away arm imagine take slow tenderly till feel overflow look soft cave conceal slowly weaken baby melt away fall like rain time face wanna break anytime come baby melt away arm cloud reverie spin inside head unendingly thoughts wild rhapsodize paint pretty picture baby melt away fall like rain time face wanna break anytime come baby melt away arm baby melt away fall like rain time face wanna break anytime come baby melt away arm\n",
      "hurt feel think cry hurt think hurt gotta outta head hurt hurt baby life better leave admit life kind go things say love yeah drama split heart ease think things leave best thing hurt feel think cry hurt baby think hurt gotta outta head hurt hurt yeah hurt hurt hurt know hurt hurt hurt say wanna feel kind pain think think right hurt baby feel think think think cry hurt tell think think hurt gotta outta head hurt hurt yeah hurt hurt hurt hurt hurt hurt sure hurt wanna hurt wanna shoop shoop hurt hurt hurt gotta shoop hurt hurt hurt hurt yeah hurt bout\n",
      "choice hear state time think treat like princess like spite alarm fall head feet surprise couldn help fault swallow braver give credit service spite alarm fall head feet surprise couldn help fault bearer unconditional things hold breath door thank best listener best friend best friend benefit take long felt healthy want rational aware aware spite alarm fall head feet surprise couldn help fault spite alarm fall head feet surprise couldn help fault\n",
      "word touch deeply core tremble think realize effect look like make want near kiss sweet make crave thousand kiss follow touch like make embrace pale shallow come close make want near bring flower whisper sweet things understand hand know make want near look eye know heart hand understand arm complete power gentle cause hand hair heart teeth babe make want near hand hair heart teeth babe make want near want near want near want near\n",
      "stand tell understand say love fact leave say felt trap somethings explain away heartache till stand stand time close remember things see dream come tumblin wolves thing stand stand stand stand explain speak stand need clothe need stay things understand point view suppose stand stand stand stand explain speak stand stand stand stand\n",
      "time whisper softly love word fairy tales long hear give body soul take control slowly sweep carry away tell pretty lie hold tight know ignorance warm embrace long want away haunt yesterday drown thoughts yesterday fool paradise blow away feel remember come window dark baby need need baby right cause tonight crumble sink memories shadow wash long want away haunt haunt haunt baby long want away haunt haunt yesterday long long long long long long long long long baby need need right cause tonight crumble sink memories shadow wash long want away haunt yesterday long want away haunt long long want away haunt\n",
      "certain life simply beloved wife know certain live life beloved wife beloved wife believe lose best certain life years simply beloved wife defy depth deep grief beloved soul renounce life right beloved wife beloved wife go suffer long hours pain go suffer begin go wrong surrender life tonight go wrong turn face away light tonight\n",
      "want know go ready ready want rivers overflow ready ready ready rivers ready rivers flowin freely ready ready water redeem ready ready ready rivers ready rivers want want know go want rivers overflow ready rivers ready rivers ready ready\n",
      "sweet daydream night creep dream fantasy deep fantasy night creep dream real daydream sweet sweet daydream real touch come room come fantasy feel sweet dream baby sweet fantasy daydream feel raptured silence come want sweet sweet sweet sweet sweet sweet deeper reality sweet sweet like kiss life like kiss life build fantasy baby come room fantasy\n",
      "know catholic girls time little late forget confuse guilt feel sinners saviors loverless priests sunday reason thing learn need cling sing alleluia choir confess darkest deeds envious brothers go blind father skeptic stupid question reason thing learn need cling learn reject believe suffer consequence inquisition jump fountain forgive reason thing learn need cling delusions head mind believe\n",
      "away long absence make heart frantic wanna tell go operator transatlantic night go stare phone reply long long distance affair telephone home gotta message wanna tell go world come come act like total stranger reach feel heart danger letter perfectly clear have ball wish long long distance affair telephone home gotta message wanna tell go premonition funny thing unfamiliar kind vague hazy like know phone gonna ring time drive crazy hear echo long long distance affair telephone home long long distance affair telephone home long long distance affair telephone home long long distance affair\n",
      "abandon live anymore vacancy live anymore live inside conceive wouldn trouble away change right away abandon live anymore vacancy live anymore dont live anymore emptiness memories go away place stay home abandon live anymore vacancy live anymore windows eye loneliness inside away know miss need abandon live anymore vacancy live anymore abandon live anymore vacancy live anymore live anymore live live anymore live anymore live live anymore\n",
      "know reach deep inside hide walk talk touch tenderly build strong couldn break road afraid kiss arkansas rome cause arm home sweet home feel live years bill baby chain home heart anymore hang bedroom door head like home heart anymore foundations stone turn dust hardest hearts steel turn rust feel change story end come home live build wall go home heart anymore hang bedroom door head like home head like home heart anymore home heart\n",
      "corner stand jukebox best country music hear selections quarter somebody songs good kentucky whiskey counter friends help ease pain buttonpushing cowboy play song miss mister play song song mister know mean wanna hear song dime time hold away close swear richest girl nashville maybe state tennessee guess better cause leave leave note say sorry picture song weigh heavy mind mister play song song mister know mean wanna hear song\n"
     ]
    }
   ],
   "source": [
    "for x in fem_df.lyrics.head(15):\n",
    "    print(x)"
   ]
  },
  {
   "cell_type": "code",
   "execution_count": 57,
   "metadata": {},
   "outputs": [],
   "source": [
    "with open('all_songs_dictlist.json', 'r', encoding='utf-8') as f:\n",
    "    dict500 = json.load(f)"
   ]
  },
  {
   "cell_type": "code",
   "execution_count": 58,
   "metadata": {},
   "outputs": [],
   "source": [
    "list500 = list(dict500.values())"
   ]
  },
  {
   "cell_type": "code",
   "execution_count": 62,
   "metadata": {
    "scrolled": true
   },
   "outputs": [],
   "source": [
    "fut_dflist = []\n",
    "for l in list500:\n",
    "    fut_dflist.extend(l)"
   ]
  },
  {
   "cell_type": "code",
   "execution_count": 76,
   "metadata": {},
   "outputs": [
    {
     "data": {
      "text/html": [
       "<div>\n",
       "<style scoped>\n",
       "    .dataframe tbody tr th:only-of-type {\n",
       "        vertical-align: middle;\n",
       "    }\n",
       "\n",
       "    .dataframe tbody tr th {\n",
       "        vertical-align: top;\n",
       "    }\n",
       "\n",
       "    .dataframe thead th {\n",
       "        text-align: right;\n",
       "    }\n",
       "</style>\n",
       "<table border=\"1\" class=\"dataframe\">\n",
       "  <thead>\n",
       "    <tr style=\"text-align: right;\">\n",
       "      <th></th>\n",
       "      <th>Title</th>\n",
       "      <th>URL</th>\n",
       "      <th>Artist</th>\n",
       "      <th>Album</th>\n",
       "      <th>Lyrics</th>\n",
       "    </tr>\n",
       "  </thead>\n",
       "  <tbody>\n",
       "    <tr>\n",
       "      <th>0</th>\n",
       "      <td>DDevil</td>\n",
       "      <td>https://genius.com/System-of-a-down-ddevil-lyrics</td>\n",
       "      <td>system of a down</td>\n",
       "      <td>System of a Down</td>\n",
       "      <td>Plagiarized existence exist among the writers ...</td>\n",
       "    </tr>\n",
       "    <tr>\n",
       "      <th>1</th>\n",
       "      <td>Side of the Freeway</td>\n",
       "      <td>https://genius.com/System-of-a-down-side-of-th...</td>\n",
       "      <td>system of a down</td>\n",
       "      <td></td>\n",
       "      <td>Hey, Mr. Jack Is that the mouthwash in your ey...</td>\n",
       "    </tr>\n",
       "    <tr>\n",
       "      <th>2</th>\n",
       "      <td>Deer Dance</td>\n",
       "      <td>https://genius.com/System-of-a-down-deer-dance...</td>\n",
       "      <td>system of a down</td>\n",
       "      <td>Toxicity</td>\n",
       "      <td>Circumventing circuses lamenting in protest To...</td>\n",
       "    </tr>\n",
       "    <tr>\n",
       "      <th>3</th>\n",
       "      <td>Darts</td>\n",
       "      <td>https://genius.com/System-of-a-down-darts-lyrics</td>\n",
       "      <td>system of a down</td>\n",
       "      <td>System of a Down</td>\n",
       "      <td>May I please remain in this space For darts sc...</td>\n",
       "    </tr>\n",
       "    <tr>\n",
       "      <th>4</th>\n",
       "      <td>Jet Pilot</td>\n",
       "      <td>https://genius.com/System-of-a-down-jet-pilot-...</td>\n",
       "      <td>system of a down</td>\n",
       "      <td>Toxicity</td>\n",
       "      <td>Wired were the eyes of a horse on a jet pilot ...</td>\n",
       "    </tr>\n",
       "    <tr>\n",
       "      <th>...</th>\n",
       "      <td>...</td>\n",
       "      <td>...</td>\n",
       "      <td>...</td>\n",
       "      <td>...</td>\n",
       "      <td>...</td>\n",
       "    </tr>\n",
       "    <tr>\n",
       "      <th>586</th>\n",
       "      <td>Two Times a Charm</td>\n",
       "      <td>https://genius.com/Leikeli47-two-times-a-charm...</td>\n",
       "      <td>leikeli47</td>\n",
       "      <td>Leikeli47</td>\n",
       "      <td>I came here to talk back, I-I came here to fuc...</td>\n",
       "    </tr>\n",
       "    <tr>\n",
       "      <th>587</th>\n",
       "      <td>Attitude</td>\n",
       "      <td>https://genius.com/Leikeli47-attitude-lyrics</td>\n",
       "      <td>leikeli47</td>\n",
       "      <td>Wash &amp; Set</td>\n",
       "      <td>Brushed my hair, went downstairs Favorite jean...</td>\n",
       "    </tr>\n",
       "    <tr>\n",
       "      <th>588</th>\n",
       "      <td>Bitch Switch</td>\n",
       "      <td>https://genius.com/Leikeli47-bitch-switch-lyrics</td>\n",
       "      <td>leikeli47</td>\n",
       "      <td>Lk-47 Part III</td>\n",
       "      <td>I was havin a good day That Sade started me of...</td>\n",
       "    </tr>\n",
       "    <tr>\n",
       "      <th>589</th>\n",
       "      <td>Heard Em Say</td>\n",
       "      <td>https://genius.com/Leikeli47-heard-em-say-lyrics</td>\n",
       "      <td>leikeli47</td>\n",
       "      <td>Lk-47</td>\n",
       "      <td>Change always brings different things We aim h...</td>\n",
       "    </tr>\n",
       "    <tr>\n",
       "      <th>590</th>\n",
       "      <td>CIAA</td>\n",
       "      <td>https://genius.com/Leikeli47-ciaa-lyrics</td>\n",
       "      <td>leikeli47</td>\n",
       "      <td>Acrylic</td>\n",
       "      <td>The guns go bang bang My neighborhood gangbang...</td>\n",
       "    </tr>\n",
       "  </tbody>\n",
       "</table>\n",
       "<p>591 rows × 5 columns</p>\n",
       "</div>"
      ],
      "text/plain": [
       "                   Title                                                URL  \\\n",
       "0                 DDevil  https://genius.com/System-of-a-down-ddevil-lyrics   \n",
       "1    Side of the Freeway  https://genius.com/System-of-a-down-side-of-th...   \n",
       "2             Deer Dance  https://genius.com/System-of-a-down-deer-dance...   \n",
       "3                  Darts   https://genius.com/System-of-a-down-darts-lyrics   \n",
       "4              Jet Pilot  https://genius.com/System-of-a-down-jet-pilot-...   \n",
       "..                   ...                                                ...   \n",
       "586    Two Times a Charm  https://genius.com/Leikeli47-two-times-a-charm...   \n",
       "587             Attitude       https://genius.com/Leikeli47-attitude-lyrics   \n",
       "588         Bitch Switch   https://genius.com/Leikeli47-bitch-switch-lyrics   \n",
       "589         Heard Em Say   https://genius.com/Leikeli47-heard-em-say-lyrics   \n",
       "590                 CIAA           https://genius.com/Leikeli47-ciaa-lyrics   \n",
       "\n",
       "               Artist             Album  \\\n",
       "0    system of a down  System of a Down   \n",
       "1    system of a down                     \n",
       "2    system of a down          Toxicity   \n",
       "3    system of a down  System of a Down   \n",
       "4    system of a down          Toxicity   \n",
       "..                ...               ...   \n",
       "586         leikeli47         Leikeli47   \n",
       "587         leikeli47        Wash & Set   \n",
       "588         leikeli47    Lk-47 Part III   \n",
       "589         leikeli47             Lk-47   \n",
       "590         leikeli47           Acrylic   \n",
       "\n",
       "                                                Lyrics  \n",
       "0    Plagiarized existence exist among the writers ...  \n",
       "1    Hey, Mr. Jack Is that the mouthwash in your ey...  \n",
       "2    Circumventing circuses lamenting in protest To...  \n",
       "3    May I please remain in this space For darts sc...  \n",
       "4    Wired were the eyes of a horse on a jet pilot ...  \n",
       "..                                                 ...  \n",
       "586  I came here to talk back, I-I came here to fuc...  \n",
       "587  Brushed my hair, went downstairs Favorite jean...  \n",
       "588  I was havin a good day That Sade started me of...  \n",
       "589  Change always brings different things We aim h...  \n",
       "590  The guns go bang bang My neighborhood gangbang...  \n",
       "\n",
       "[591 rows x 5 columns]"
      ]
     },
     "execution_count": 76,
     "metadata": {},
     "output_type": "execute_result"
    }
   ],
   "source": [
    "df_genius = pd.DataFrame(fut_dflist)\n",
    "df_genius"
   ]
  },
  {
   "cell_type": "code",
   "execution_count": 77,
   "metadata": {},
   "outputs": [
    {
     "data": {
      "text/html": [
       "<div>\n",
       "<style scoped>\n",
       "    .dataframe tbody tr th:only-of-type {\n",
       "        vertical-align: middle;\n",
       "    }\n",
       "\n",
       "    .dataframe tbody tr th {\n",
       "        vertical-align: top;\n",
       "    }\n",
       "\n",
       "    .dataframe thead th {\n",
       "        text-align: right;\n",
       "    }\n",
       "</style>\n",
       "<table border=\"1\" class=\"dataframe\">\n",
       "  <thead>\n",
       "    <tr style=\"text-align: right;\">\n",
       "      <th></th>\n",
       "      <th>Title</th>\n",
       "      <th>URL</th>\n",
       "      <th>Artist</th>\n",
       "      <th>Album</th>\n",
       "      <th>Lyrics</th>\n",
       "    </tr>\n",
       "  </thead>\n",
       "  <tbody>\n",
       "    <tr>\n",
       "      <th>0</th>\n",
       "      <td>DDevil</td>\n",
       "      <td>https://genius.com/System-of-a-down-ddevil-lyrics</td>\n",
       "      <td>system of a down</td>\n",
       "      <td>System of a Down</td>\n",
       "      <td>Plagiarized existence exist among the writers ...</td>\n",
       "    </tr>\n",
       "    <tr>\n",
       "      <th>1</th>\n",
       "      <td>Side of the Freeway</td>\n",
       "      <td>https://genius.com/System-of-a-down-side-of-th...</td>\n",
       "      <td>system of a down</td>\n",
       "      <td></td>\n",
       "      <td>Hey, Mr. Jack Is that the mouthwash in your ey...</td>\n",
       "    </tr>\n",
       "    <tr>\n",
       "      <th>2</th>\n",
       "      <td>Deer Dance</td>\n",
       "      <td>https://genius.com/System-of-a-down-deer-dance...</td>\n",
       "      <td>system of a down</td>\n",
       "      <td>Toxicity</td>\n",
       "      <td>Circumventing circuses lamenting in protest To...</td>\n",
       "    </tr>\n",
       "    <tr>\n",
       "      <th>3</th>\n",
       "      <td>Darts</td>\n",
       "      <td>https://genius.com/System-of-a-down-darts-lyrics</td>\n",
       "      <td>system of a down</td>\n",
       "      <td>System of a Down</td>\n",
       "      <td>May I please remain in this space For darts sc...</td>\n",
       "    </tr>\n",
       "    <tr>\n",
       "      <th>4</th>\n",
       "      <td>Jet Pilot</td>\n",
       "      <td>https://genius.com/System-of-a-down-jet-pilot-...</td>\n",
       "      <td>system of a down</td>\n",
       "      <td>Toxicity</td>\n",
       "      <td>Wired were the eyes of a horse on a jet pilot ...</td>\n",
       "    </tr>\n",
       "    <tr>\n",
       "      <th>...</th>\n",
       "      <td>...</td>\n",
       "      <td>...</td>\n",
       "      <td>...</td>\n",
       "      <td>...</td>\n",
       "      <td>...</td>\n",
       "    </tr>\n",
       "    <tr>\n",
       "      <th>586</th>\n",
       "      <td>Two Times a Charm</td>\n",
       "      <td>https://genius.com/Leikeli47-two-times-a-charm...</td>\n",
       "      <td>leikeli47</td>\n",
       "      <td>Leikeli47</td>\n",
       "      <td>I came here to talk back, I-I came here to fuc...</td>\n",
       "    </tr>\n",
       "    <tr>\n",
       "      <th>587</th>\n",
       "      <td>Attitude</td>\n",
       "      <td>https://genius.com/Leikeli47-attitude-lyrics</td>\n",
       "      <td>leikeli47</td>\n",
       "      <td>Wash &amp; Set</td>\n",
       "      <td>Brushed my hair, went downstairs Favorite jean...</td>\n",
       "    </tr>\n",
       "    <tr>\n",
       "      <th>588</th>\n",
       "      <td>Bitch Switch</td>\n",
       "      <td>https://genius.com/Leikeli47-bitch-switch-lyrics</td>\n",
       "      <td>leikeli47</td>\n",
       "      <td>Lk-47 Part III</td>\n",
       "      <td>I was havin a good day That Sade started me of...</td>\n",
       "    </tr>\n",
       "    <tr>\n",
       "      <th>589</th>\n",
       "      <td>Heard Em Say</td>\n",
       "      <td>https://genius.com/Leikeli47-heard-em-say-lyrics</td>\n",
       "      <td>leikeli47</td>\n",
       "      <td>Lk-47</td>\n",
       "      <td>Change always brings different things We aim h...</td>\n",
       "    </tr>\n",
       "    <tr>\n",
       "      <th>590</th>\n",
       "      <td>CIAA</td>\n",
       "      <td>https://genius.com/Leikeli47-ciaa-lyrics</td>\n",
       "      <td>leikeli47</td>\n",
       "      <td>Acrylic</td>\n",
       "      <td>The guns go bang bang My neighborhood gangbang...</td>\n",
       "    </tr>\n",
       "  </tbody>\n",
       "</table>\n",
       "<p>588 rows × 5 columns</p>\n",
       "</div>"
      ],
      "text/plain": [
       "                   Title                                                URL  \\\n",
       "0                 DDevil  https://genius.com/System-of-a-down-ddevil-lyrics   \n",
       "1    Side of the Freeway  https://genius.com/System-of-a-down-side-of-th...   \n",
       "2             Deer Dance  https://genius.com/System-of-a-down-deer-dance...   \n",
       "3                  Darts   https://genius.com/System-of-a-down-darts-lyrics   \n",
       "4              Jet Pilot  https://genius.com/System-of-a-down-jet-pilot-...   \n",
       "..                   ...                                                ...   \n",
       "586    Two Times a Charm  https://genius.com/Leikeli47-two-times-a-charm...   \n",
       "587             Attitude       https://genius.com/Leikeli47-attitude-lyrics   \n",
       "588         Bitch Switch   https://genius.com/Leikeli47-bitch-switch-lyrics   \n",
       "589         Heard Em Say   https://genius.com/Leikeli47-heard-em-say-lyrics   \n",
       "590                 CIAA           https://genius.com/Leikeli47-ciaa-lyrics   \n",
       "\n",
       "               Artist             Album  \\\n",
       "0    system of a down  System of a Down   \n",
       "1    system of a down                     \n",
       "2    system of a down          Toxicity   \n",
       "3    system of a down  System of a Down   \n",
       "4    system of a down          Toxicity   \n",
       "..                ...               ...   \n",
       "586         leikeli47         Leikeli47   \n",
       "587         leikeli47        Wash & Set   \n",
       "588         leikeli47    Lk-47 Part III   \n",
       "589         leikeli47             Lk-47   \n",
       "590         leikeli47           Acrylic   \n",
       "\n",
       "                                                Lyrics  \n",
       "0    Plagiarized existence exist among the writers ...  \n",
       "1    Hey, Mr. Jack Is that the mouthwash in your ey...  \n",
       "2    Circumventing circuses lamenting in protest To...  \n",
       "3    May I please remain in this space For darts sc...  \n",
       "4    Wired were the eyes of a horse on a jet pilot ...  \n",
       "..                                                 ...  \n",
       "586  I came here to talk back, I-I came here to fuc...  \n",
       "587  Brushed my hair, went downstairs Favorite jean...  \n",
       "588  I was havin a good day That Sade started me of...  \n",
       "589  Change always brings different things We aim h...  \n",
       "590  The guns go bang bang My neighborhood gangbang...  \n",
       "\n",
       "[588 rows x 5 columns]"
      ]
     },
     "execution_count": 77,
     "metadata": {},
     "output_type": "execute_result"
    }
   ],
   "source": [
    "df_genius = df_genius[df_genius['Artist'] != \"the jack wood\"]\n",
    "df_genius"
   ]
  },
  {
   "cell_type": "code",
   "execution_count": 84,
   "metadata": {},
   "outputs": [],
   "source": [
    "def clean_text(x):\n",
    "    x = re.sub(\"[,\\.\\(\\)\\?!;:]\", '', x.lower())\n",
    "    x = re.sub(\"\\-\", ' ', x)\n",
    "    x = re.sub('\\s{2,}', ' ', x)\n",
    "    x = re.sub('\\s', ' ', x)\n",
    "    return x.strip()\n",
    "    "
   ]
  },
  {
   "cell_type": "code",
   "execution_count": 71,
   "metadata": {},
   "outputs": [],
   "source": [
    "import re"
   ]
  },
  {
   "cell_type": "code",
   "execution_count": 85,
   "metadata": {},
   "outputs": [
    {
     "name": "stderr",
     "output_type": "stream",
     "text": [
      "C:\\users\\admin\\anaconda3\\lib\\site-packages\\ipykernel_launcher.py:1: SettingWithCopyWarning: \n",
      "A value is trying to be set on a copy of a slice from a DataFrame.\n",
      "Try using .loc[row_indexer,col_indexer] = value instead\n",
      "\n",
      "See the caveats in the documentation: https://pandas.pydata.org/pandas-docs/stable/user_guide/indexing.html#returning-a-view-versus-a-copy\n",
      "  \"\"\"Entry point for launching an IPython kernel.\n"
     ]
    }
   ],
   "source": [
    "df_genius['Lyrics'] = df_genius['Lyrics'].apply(clean_text)"
   ]
  },
  {
   "cell_type": "code",
   "execution_count": 86,
   "metadata": {},
   "outputs": [
    {
     "data": {
      "text/html": [
       "<div>\n",
       "<style scoped>\n",
       "    .dataframe tbody tr th:only-of-type {\n",
       "        vertical-align: middle;\n",
       "    }\n",
       "\n",
       "    .dataframe tbody tr th {\n",
       "        vertical-align: top;\n",
       "    }\n",
       "\n",
       "    .dataframe thead th {\n",
       "        text-align: right;\n",
       "    }\n",
       "</style>\n",
       "<table border=\"1\" class=\"dataframe\">\n",
       "  <thead>\n",
       "    <tr style=\"text-align: right;\">\n",
       "      <th></th>\n",
       "      <th>Title</th>\n",
       "      <th>URL</th>\n",
       "      <th>Artist</th>\n",
       "      <th>Album</th>\n",
       "      <th>Lyrics</th>\n",
       "    </tr>\n",
       "  </thead>\n",
       "  <tbody>\n",
       "    <tr>\n",
       "      <th>0</th>\n",
       "      <td>DDevil</td>\n",
       "      <td>https://genius.com/System-of-a-down-ddevil-lyrics</td>\n",
       "      <td>system of a down</td>\n",
       "      <td>System of a Down</td>\n",
       "      <td>plagiarized existence exist among the writers ...</td>\n",
       "    </tr>\n",
       "    <tr>\n",
       "      <th>1</th>\n",
       "      <td>Side of the Freeway</td>\n",
       "      <td>https://genius.com/System-of-a-down-side-of-th...</td>\n",
       "      <td>system of a down</td>\n",
       "      <td></td>\n",
       "      <td>hey mr jack is that the mouthwash in your eyes...</td>\n",
       "    </tr>\n",
       "    <tr>\n",
       "      <th>2</th>\n",
       "      <td>Deer Dance</td>\n",
       "      <td>https://genius.com/System-of-a-down-deer-dance...</td>\n",
       "      <td>system of a down</td>\n",
       "      <td>Toxicity</td>\n",
       "      <td>circumventing circuses lamenting in protest to...</td>\n",
       "    </tr>\n",
       "    <tr>\n",
       "      <th>3</th>\n",
       "      <td>Darts</td>\n",
       "      <td>https://genius.com/System-of-a-down-darts-lyrics</td>\n",
       "      <td>system of a down</td>\n",
       "      <td>System of a Down</td>\n",
       "      <td>may i please remain in this space for darts sc...</td>\n",
       "    </tr>\n",
       "    <tr>\n",
       "      <th>4</th>\n",
       "      <td>Jet Pilot</td>\n",
       "      <td>https://genius.com/System-of-a-down-jet-pilot-...</td>\n",
       "      <td>system of a down</td>\n",
       "      <td>Toxicity</td>\n",
       "      <td>wired were the eyes of a horse on a jet pilot ...</td>\n",
       "    </tr>\n",
       "    <tr>\n",
       "      <th>...</th>\n",
       "      <td>...</td>\n",
       "      <td>...</td>\n",
       "      <td>...</td>\n",
       "      <td>...</td>\n",
       "      <td>...</td>\n",
       "    </tr>\n",
       "    <tr>\n",
       "      <th>586</th>\n",
       "      <td>Two Times a Charm</td>\n",
       "      <td>https://genius.com/Leikeli47-two-times-a-charm...</td>\n",
       "      <td>leikeli47</td>\n",
       "      <td>Leikeli47</td>\n",
       "      <td>i came here to talk back i i came here to fuck...</td>\n",
       "    </tr>\n",
       "    <tr>\n",
       "      <th>587</th>\n",
       "      <td>Attitude</td>\n",
       "      <td>https://genius.com/Leikeli47-attitude-lyrics</td>\n",
       "      <td>leikeli47</td>\n",
       "      <td>Wash &amp; Set</td>\n",
       "      <td>brushed my hair went downstairs favorite jeans...</td>\n",
       "    </tr>\n",
       "    <tr>\n",
       "      <th>588</th>\n",
       "      <td>Bitch Switch</td>\n",
       "      <td>https://genius.com/Leikeli47-bitch-switch-lyrics</td>\n",
       "      <td>leikeli47</td>\n",
       "      <td>Lk-47 Part III</td>\n",
       "      <td>i was havin a good day that sade started me of...</td>\n",
       "    </tr>\n",
       "    <tr>\n",
       "      <th>589</th>\n",
       "      <td>Heard Em Say</td>\n",
       "      <td>https://genius.com/Leikeli47-heard-em-say-lyrics</td>\n",
       "      <td>leikeli47</td>\n",
       "      <td>Lk-47</td>\n",
       "      <td>change always brings different things we aim h...</td>\n",
       "    </tr>\n",
       "    <tr>\n",
       "      <th>590</th>\n",
       "      <td>CIAA</td>\n",
       "      <td>https://genius.com/Leikeli47-ciaa-lyrics</td>\n",
       "      <td>leikeli47</td>\n",
       "      <td>Acrylic</td>\n",
       "      <td>the guns go bang bang my neighborhood gangbang...</td>\n",
       "    </tr>\n",
       "  </tbody>\n",
       "</table>\n",
       "<p>588 rows × 5 columns</p>\n",
       "</div>"
      ],
      "text/plain": [
       "                   Title                                                URL  \\\n",
       "0                 DDevil  https://genius.com/System-of-a-down-ddevil-lyrics   \n",
       "1    Side of the Freeway  https://genius.com/System-of-a-down-side-of-th...   \n",
       "2             Deer Dance  https://genius.com/System-of-a-down-deer-dance...   \n",
       "3                  Darts   https://genius.com/System-of-a-down-darts-lyrics   \n",
       "4              Jet Pilot  https://genius.com/System-of-a-down-jet-pilot-...   \n",
       "..                   ...                                                ...   \n",
       "586    Two Times a Charm  https://genius.com/Leikeli47-two-times-a-charm...   \n",
       "587             Attitude       https://genius.com/Leikeli47-attitude-lyrics   \n",
       "588         Bitch Switch   https://genius.com/Leikeli47-bitch-switch-lyrics   \n",
       "589         Heard Em Say   https://genius.com/Leikeli47-heard-em-say-lyrics   \n",
       "590                 CIAA           https://genius.com/Leikeli47-ciaa-lyrics   \n",
       "\n",
       "               Artist             Album  \\\n",
       "0    system of a down  System of a Down   \n",
       "1    system of a down                     \n",
       "2    system of a down          Toxicity   \n",
       "3    system of a down  System of a Down   \n",
       "4    system of a down          Toxicity   \n",
       "..                ...               ...   \n",
       "586         leikeli47         Leikeli47   \n",
       "587         leikeli47        Wash & Set   \n",
       "588         leikeli47    Lk-47 Part III   \n",
       "589         leikeli47             Lk-47   \n",
       "590         leikeli47           Acrylic   \n",
       "\n",
       "                                                Lyrics  \n",
       "0    plagiarized existence exist among the writers ...  \n",
       "1    hey mr jack is that the mouthwash in your eyes...  \n",
       "2    circumventing circuses lamenting in protest to...  \n",
       "3    may i please remain in this space for darts sc...  \n",
       "4    wired were the eyes of a horse on a jet pilot ...  \n",
       "..                                                 ...  \n",
       "586  i came here to talk back i i came here to fuck...  \n",
       "587  brushed my hair went downstairs favorite jeans...  \n",
       "588  i was havin a good day that sade started me of...  \n",
       "589  change always brings different things we aim h...  \n",
       "590  the guns go bang bang my neighborhood gangbang...  \n",
       "\n",
       "[588 rows x 5 columns]"
      ]
     },
     "execution_count": 86,
     "metadata": {},
     "output_type": "execute_result"
    }
   ],
   "source": [
    "df_genius"
   ]
  },
  {
   "cell_type": "code",
   "execution_count": 93,
   "metadata": {},
   "outputs": [],
   "source": [
    "def gendering(x, male_artists=male_artists, female_artists=female_artists):\n",
    "    if x in male_artists:\n",
    "        val = 1\n",
    "    elif x in female_artists:\n",
    "        val = 0\n",
    "    else:\n",
    "        val = 2\n",
    "    return val"
   ]
  },
  {
   "cell_type": "code",
   "execution_count": 94,
   "metadata": {},
   "outputs": [
    {
     "name": "stderr",
     "output_type": "stream",
     "text": [
      "C:\\users\\admin\\anaconda3\\lib\\site-packages\\ipykernel_launcher.py:1: SettingWithCopyWarning: \n",
      "A value is trying to be set on a copy of a slice from a DataFrame.\n",
      "Try using .loc[row_indexer,col_indexer] = value instead\n",
      "\n",
      "See the caveats in the documentation: https://pandas.pydata.org/pandas-docs/stable/user_guide/indexing.html#returning-a-view-versus-a-copy\n",
      "  \"\"\"Entry point for launching an IPython kernel.\n"
     ]
    }
   ],
   "source": [
    "df_genius['gender'] = df_genius[\"Artist\"].apply(gendering)"
   ]
  },
  {
   "cell_type": "code",
   "execution_count": 95,
   "metadata": {},
   "outputs": [
    {
     "data": {
      "text/html": [
       "<div>\n",
       "<style scoped>\n",
       "    .dataframe tbody tr th:only-of-type {\n",
       "        vertical-align: middle;\n",
       "    }\n",
       "\n",
       "    .dataframe tbody tr th {\n",
       "        vertical-align: top;\n",
       "    }\n",
       "\n",
       "    .dataframe thead th {\n",
       "        text-align: right;\n",
       "    }\n",
       "</style>\n",
       "<table border=\"1\" class=\"dataframe\">\n",
       "  <thead>\n",
       "    <tr style=\"text-align: right;\">\n",
       "      <th></th>\n",
       "      <th>Title</th>\n",
       "      <th>URL</th>\n",
       "      <th>Artist</th>\n",
       "      <th>Album</th>\n",
       "      <th>Lyrics</th>\n",
       "      <th>gender</th>\n",
       "    </tr>\n",
       "  </thead>\n",
       "  <tbody>\n",
       "    <tr>\n",
       "      <th>0</th>\n",
       "      <td>DDevil</td>\n",
       "      <td>https://genius.com/System-of-a-down-ddevil-lyrics</td>\n",
       "      <td>system of a down</td>\n",
       "      <td>System of a Down</td>\n",
       "      <td>plagiarized existence exist among the writers ...</td>\n",
       "      <td>1</td>\n",
       "    </tr>\n",
       "    <tr>\n",
       "      <th>1</th>\n",
       "      <td>Side of the Freeway</td>\n",
       "      <td>https://genius.com/System-of-a-down-side-of-th...</td>\n",
       "      <td>system of a down</td>\n",
       "      <td></td>\n",
       "      <td>hey mr jack is that the mouthwash in your eyes...</td>\n",
       "      <td>1</td>\n",
       "    </tr>\n",
       "    <tr>\n",
       "      <th>2</th>\n",
       "      <td>Deer Dance</td>\n",
       "      <td>https://genius.com/System-of-a-down-deer-dance...</td>\n",
       "      <td>system of a down</td>\n",
       "      <td>Toxicity</td>\n",
       "      <td>circumventing circuses lamenting in protest to...</td>\n",
       "      <td>1</td>\n",
       "    </tr>\n",
       "    <tr>\n",
       "      <th>3</th>\n",
       "      <td>Darts</td>\n",
       "      <td>https://genius.com/System-of-a-down-darts-lyrics</td>\n",
       "      <td>system of a down</td>\n",
       "      <td>System of a Down</td>\n",
       "      <td>may i please remain in this space for darts sc...</td>\n",
       "      <td>1</td>\n",
       "    </tr>\n",
       "    <tr>\n",
       "      <th>4</th>\n",
       "      <td>Jet Pilot</td>\n",
       "      <td>https://genius.com/System-of-a-down-jet-pilot-...</td>\n",
       "      <td>system of a down</td>\n",
       "      <td>Toxicity</td>\n",
       "      <td>wired were the eyes of a horse on a jet pilot ...</td>\n",
       "      <td>1</td>\n",
       "    </tr>\n",
       "    <tr>\n",
       "      <th>...</th>\n",
       "      <td>...</td>\n",
       "      <td>...</td>\n",
       "      <td>...</td>\n",
       "      <td>...</td>\n",
       "      <td>...</td>\n",
       "      <td>...</td>\n",
       "    </tr>\n",
       "    <tr>\n",
       "      <th>586</th>\n",
       "      <td>Two Times a Charm</td>\n",
       "      <td>https://genius.com/Leikeli47-two-times-a-charm...</td>\n",
       "      <td>leikeli47</td>\n",
       "      <td>Leikeli47</td>\n",
       "      <td>i came here to talk back i i came here to fuck...</td>\n",
       "      <td>0</td>\n",
       "    </tr>\n",
       "    <tr>\n",
       "      <th>587</th>\n",
       "      <td>Attitude</td>\n",
       "      <td>https://genius.com/Leikeli47-attitude-lyrics</td>\n",
       "      <td>leikeli47</td>\n",
       "      <td>Wash &amp; Set</td>\n",
       "      <td>brushed my hair went downstairs favorite jeans...</td>\n",
       "      <td>0</td>\n",
       "    </tr>\n",
       "    <tr>\n",
       "      <th>588</th>\n",
       "      <td>Bitch Switch</td>\n",
       "      <td>https://genius.com/Leikeli47-bitch-switch-lyrics</td>\n",
       "      <td>leikeli47</td>\n",
       "      <td>Lk-47 Part III</td>\n",
       "      <td>i was havin a good day that sade started me of...</td>\n",
       "      <td>0</td>\n",
       "    </tr>\n",
       "    <tr>\n",
       "      <th>589</th>\n",
       "      <td>Heard Em Say</td>\n",
       "      <td>https://genius.com/Leikeli47-heard-em-say-lyrics</td>\n",
       "      <td>leikeli47</td>\n",
       "      <td>Lk-47</td>\n",
       "      <td>change always brings different things we aim h...</td>\n",
       "      <td>0</td>\n",
       "    </tr>\n",
       "    <tr>\n",
       "      <th>590</th>\n",
       "      <td>CIAA</td>\n",
       "      <td>https://genius.com/Leikeli47-ciaa-lyrics</td>\n",
       "      <td>leikeli47</td>\n",
       "      <td>Acrylic</td>\n",
       "      <td>the guns go bang bang my neighborhood gangbang...</td>\n",
       "      <td>0</td>\n",
       "    </tr>\n",
       "  </tbody>\n",
       "</table>\n",
       "<p>588 rows × 6 columns</p>\n",
       "</div>"
      ],
      "text/plain": [
       "                   Title                                                URL  \\\n",
       "0                 DDevil  https://genius.com/System-of-a-down-ddevil-lyrics   \n",
       "1    Side of the Freeway  https://genius.com/System-of-a-down-side-of-th...   \n",
       "2             Deer Dance  https://genius.com/System-of-a-down-deer-dance...   \n",
       "3                  Darts   https://genius.com/System-of-a-down-darts-lyrics   \n",
       "4              Jet Pilot  https://genius.com/System-of-a-down-jet-pilot-...   \n",
       "..                   ...                                                ...   \n",
       "586    Two Times a Charm  https://genius.com/Leikeli47-two-times-a-charm...   \n",
       "587             Attitude       https://genius.com/Leikeli47-attitude-lyrics   \n",
       "588         Bitch Switch   https://genius.com/Leikeli47-bitch-switch-lyrics   \n",
       "589         Heard Em Say   https://genius.com/Leikeli47-heard-em-say-lyrics   \n",
       "590                 CIAA           https://genius.com/Leikeli47-ciaa-lyrics   \n",
       "\n",
       "               Artist             Album  \\\n",
       "0    system of a down  System of a Down   \n",
       "1    system of a down                     \n",
       "2    system of a down          Toxicity   \n",
       "3    system of a down  System of a Down   \n",
       "4    system of a down          Toxicity   \n",
       "..                ...               ...   \n",
       "586         leikeli47         Leikeli47   \n",
       "587         leikeli47        Wash & Set   \n",
       "588         leikeli47    Lk-47 Part III   \n",
       "589         leikeli47             Lk-47   \n",
       "590         leikeli47           Acrylic   \n",
       "\n",
       "                                                Lyrics  gender  \n",
       "0    plagiarized existence exist among the writers ...       1  \n",
       "1    hey mr jack is that the mouthwash in your eyes...       1  \n",
       "2    circumventing circuses lamenting in protest to...       1  \n",
       "3    may i please remain in this space for darts sc...       1  \n",
       "4    wired were the eyes of a horse on a jet pilot ...       1  \n",
       "..                                                 ...     ...  \n",
       "586  i came here to talk back i i came here to fuck...       0  \n",
       "587  brushed my hair went downstairs favorite jeans...       0  \n",
       "588  i was havin a good day that sade started me of...       0  \n",
       "589  change always brings different things we aim h...       0  \n",
       "590  the guns go bang bang my neighborhood gangbang...       0  \n",
       "\n",
       "[588 rows x 6 columns]"
      ]
     },
     "execution_count": 95,
     "metadata": {},
     "output_type": "execute_result"
    }
   ],
   "source": [
    "df_genius"
   ]
  },
  {
   "cell_type": "code",
   "execution_count": 96,
   "metadata": {},
   "outputs": [],
   "source": [
    "df_genius = df_genius[['Lyrics', 'gender']]"
   ]
  },
  {
   "cell_type": "code",
   "execution_count": 97,
   "metadata": {},
   "outputs": [
    {
     "data": {
      "text/html": [
       "<div>\n",
       "<style scoped>\n",
       "    .dataframe tbody tr th:only-of-type {\n",
       "        vertical-align: middle;\n",
       "    }\n",
       "\n",
       "    .dataframe tbody tr th {\n",
       "        vertical-align: top;\n",
       "    }\n",
       "\n",
       "    .dataframe thead th {\n",
       "        text-align: right;\n",
       "    }\n",
       "</style>\n",
       "<table border=\"1\" class=\"dataframe\">\n",
       "  <thead>\n",
       "    <tr style=\"text-align: right;\">\n",
       "      <th></th>\n",
       "      <th>Lyrics</th>\n",
       "      <th>gender</th>\n",
       "    </tr>\n",
       "  </thead>\n",
       "  <tbody>\n",
       "    <tr>\n",
       "      <th>0</th>\n",
       "      <td>plagiarized existence exist among the writers ...</td>\n",
       "      <td>1</td>\n",
       "    </tr>\n",
       "    <tr>\n",
       "      <th>1</th>\n",
       "      <td>hey mr jack is that the mouthwash in your eyes...</td>\n",
       "      <td>1</td>\n",
       "    </tr>\n",
       "    <tr>\n",
       "      <th>2</th>\n",
       "      <td>circumventing circuses lamenting in protest to...</td>\n",
       "      <td>1</td>\n",
       "    </tr>\n",
       "    <tr>\n",
       "      <th>3</th>\n",
       "      <td>may i please remain in this space for darts sc...</td>\n",
       "      <td>1</td>\n",
       "    </tr>\n",
       "    <tr>\n",
       "      <th>4</th>\n",
       "      <td>wired were the eyes of a horse on a jet pilot ...</td>\n",
       "      <td>1</td>\n",
       "    </tr>\n",
       "    <tr>\n",
       "      <th>...</th>\n",
       "      <td>...</td>\n",
       "      <td>...</td>\n",
       "    </tr>\n",
       "    <tr>\n",
       "      <th>586</th>\n",
       "      <td>i came here to talk back i i came here to fuck...</td>\n",
       "      <td>0</td>\n",
       "    </tr>\n",
       "    <tr>\n",
       "      <th>587</th>\n",
       "      <td>brushed my hair went downstairs favorite jeans...</td>\n",
       "      <td>0</td>\n",
       "    </tr>\n",
       "    <tr>\n",
       "      <th>588</th>\n",
       "      <td>i was havin a good day that sade started me of...</td>\n",
       "      <td>0</td>\n",
       "    </tr>\n",
       "    <tr>\n",
       "      <th>589</th>\n",
       "      <td>change always brings different things we aim h...</td>\n",
       "      <td>0</td>\n",
       "    </tr>\n",
       "    <tr>\n",
       "      <th>590</th>\n",
       "      <td>the guns go bang bang my neighborhood gangbang...</td>\n",
       "      <td>0</td>\n",
       "    </tr>\n",
       "  </tbody>\n",
       "</table>\n",
       "<p>588 rows × 2 columns</p>\n",
       "</div>"
      ],
      "text/plain": [
       "                                                Lyrics  gender\n",
       "0    plagiarized existence exist among the writers ...       1\n",
       "1    hey mr jack is that the mouthwash in your eyes...       1\n",
       "2    circumventing circuses lamenting in protest to...       1\n",
       "3    may i please remain in this space for darts sc...       1\n",
       "4    wired were the eyes of a horse on a jet pilot ...       1\n",
       "..                                                 ...     ...\n",
       "586  i came here to talk back i i came here to fuck...       0\n",
       "587  brushed my hair went downstairs favorite jeans...       0\n",
       "588  i was havin a good day that sade started me of...       0\n",
       "589  change always brings different things we aim h...       0\n",
       "590  the guns go bang bang my neighborhood gangbang...       0\n",
       "\n",
       "[588 rows x 2 columns]"
      ]
     },
     "execution_count": 97,
     "metadata": {},
     "output_type": "execute_result"
    }
   ],
   "source": [
    "df_genius"
   ]
  },
  {
   "cell_type": "code",
   "execution_count": 100,
   "metadata": {},
   "outputs": [
    {
     "data": {
      "text/html": [
       "<div>\n",
       "<style scoped>\n",
       "    .dataframe tbody tr th:only-of-type {\n",
       "        vertical-align: middle;\n",
       "    }\n",
       "\n",
       "    .dataframe tbody tr th {\n",
       "        vertical-align: top;\n",
       "    }\n",
       "\n",
       "    .dataframe thead th {\n",
       "        text-align: right;\n",
       "    }\n",
       "</style>\n",
       "<table border=\"1\" class=\"dataframe\">\n",
       "  <thead>\n",
       "    <tr style=\"text-align: right;\">\n",
       "      <th></th>\n",
       "      <th>Lyrics</th>\n",
       "    </tr>\n",
       "    <tr>\n",
       "      <th>gender</th>\n",
       "      <th></th>\n",
       "    </tr>\n",
       "  </thead>\n",
       "  <tbody>\n",
       "    <tr>\n",
       "      <th>0</th>\n",
       "      <td>262</td>\n",
       "    </tr>\n",
       "    <tr>\n",
       "      <th>1</th>\n",
       "      <td>326</td>\n",
       "    </tr>\n",
       "  </tbody>\n",
       "</table>\n",
       "</div>"
      ],
      "text/plain": [
       "        Lyrics\n",
       "gender        \n",
       "0          262\n",
       "1          326"
      ]
     },
     "execution_count": 100,
     "metadata": {},
     "output_type": "execute_result"
    }
   ],
   "source": [
    "df_genius.groupby('gender').count()"
   ]
  },
  {
   "cell_type": "code",
   "execution_count": 101,
   "metadata": {},
   "outputs": [
    {
     "name": "stderr",
     "output_type": "stream",
     "text": [
      "C:\\users\\admin\\anaconda3\\lib\\site-packages\\ipykernel_launcher.py:1: SettingWithCopyWarning: \n",
      "A value is trying to be set on a copy of a slice from a DataFrame.\n",
      "Try using .loc[row_indexer,col_indexer] = value instead\n",
      "\n",
      "See the caveats in the documentation: https://pandas.pydata.org/pandas-docs/stable/user_guide/indexing.html#returning-a-view-versus-a-copy\n",
      "  \"\"\"Entry point for launching an IPython kernel.\n"
     ]
    }
   ],
   "source": [
    "df_genius['lyrics'] = df_genius[\"Lyrics\"]"
   ]
  },
  {
   "cell_type": "code",
   "execution_count": 102,
   "metadata": {},
   "outputs": [],
   "source": [
    "df_genius = df_genius[['lyrics', 'gender']]"
   ]
  },
  {
   "cell_type": "code",
   "execution_count": 104,
   "metadata": {},
   "outputs": [
    {
     "data": {
      "text/plain": [
       "(4854, 975)"
      ]
     },
     "execution_count": 104,
     "metadata": {},
     "output_type": "execute_result"
    }
   ],
   "source": [
    "male_df = male_df[['lyrics', 'gender']]\n",
    "fem_df = fem_df[['lyrics', 'gender']]\n",
    "len(male_df.index), len(fem_df.index)"
   ]
  },
  {
   "cell_type": "code",
   "execution_count": 105,
   "metadata": {},
   "outputs": [
    {
     "data": {
      "text/plain": [
       "911"
      ]
     },
     "execution_count": 105,
     "metadata": {},
     "output_type": "execute_result"
    }
   ],
   "source": [
    "975 + 262 - 326"
   ]
  },
  {
   "cell_type": "code",
   "execution_count": 106,
   "metadata": {},
   "outputs": [],
   "source": [
    "male_sample = male_df.sample(911)"
   ]
  },
  {
   "cell_type": "code",
   "execution_count": 107,
   "metadata": {},
   "outputs": [
    {
     "data": {
      "text/html": [
       "<div>\n",
       "<style scoped>\n",
       "    .dataframe tbody tr th:only-of-type {\n",
       "        vertical-align: middle;\n",
       "    }\n",
       "\n",
       "    .dataframe tbody tr th {\n",
       "        vertical-align: top;\n",
       "    }\n",
       "\n",
       "    .dataframe thead th {\n",
       "        text-align: right;\n",
       "    }\n",
       "</style>\n",
       "<table border=\"1\" class=\"dataframe\">\n",
       "  <thead>\n",
       "    <tr style=\"text-align: right;\">\n",
       "      <th></th>\n",
       "      <th>lyrics</th>\n",
       "      <th>gender</th>\n",
       "    </tr>\n",
       "  </thead>\n",
       "  <tbody>\n",
       "    <tr>\n",
       "      <th>27166</th>\n",
       "      <td>wouldn angry fuck tear arouse refresh supply s...</td>\n",
       "      <td>1</td>\n",
       "    </tr>\n",
       "    <tr>\n",
       "      <th>5614</th>\n",
       "      <td>stay super late tonight pick apples make pies ...</td>\n",
       "      <td>1</td>\n",
       "    </tr>\n",
       "    <tr>\n",
       "      <th>15927</th>\n",
       "      <td>girl come think look cool sing say wanna like ...</td>\n",
       "      <td>1</td>\n",
       "    </tr>\n",
       "    <tr>\n",
       "      <th>27361</th>\n",
       "      <td>problem want follow underneath insane asylum w...</td>\n",
       "      <td>1</td>\n",
       "    </tr>\n",
       "    <tr>\n",
       "      <th>11589</th>\n",
       "      <td>little dive deadend road call crosseyed cricke...</td>\n",
       "      <td>1</td>\n",
       "    </tr>\n",
       "    <tr>\n",
       "      <th>...</th>\n",
       "      <td>...</td>\n",
       "      <td>...</td>\n",
       "    </tr>\n",
       "    <tr>\n",
       "      <th>26073</th>\n",
       "      <td>scum earth come yeah kill yeah destroy yeah he...</td>\n",
       "      <td>1</td>\n",
       "    </tr>\n",
       "    <tr>\n",
       "      <th>15431</th>\n",
       "      <td>cold blue swastika tattoo skin vein staple chi...</td>\n",
       "      <td>1</td>\n",
       "    </tr>\n",
       "    <tr>\n",
       "      <th>25918</th>\n",
       "      <td>official come cripple leave maim silent tameda...</td>\n",
       "      <td>1</td>\n",
       "    </tr>\n",
       "    <tr>\n",
       "      <th>26692</th>\n",
       "      <td>wanna defile desecrate mind rely wanna break c...</td>\n",
       "      <td>1</td>\n",
       "    </tr>\n",
       "    <tr>\n",
       "      <th>15848</th>\n",
       "      <td>restless sinner rest face hold fill days dark ...</td>\n",
       "      <td>1</td>\n",
       "    </tr>\n",
       "  </tbody>\n",
       "</table>\n",
       "<p>911 rows × 2 columns</p>\n",
       "</div>"
      ],
      "text/plain": [
       "                                                  lyrics  gender\n",
       "27166  wouldn angry fuck tear arouse refresh supply s...       1\n",
       "5614   stay super late tonight pick apples make pies ...       1\n",
       "15927  girl come think look cool sing say wanna like ...       1\n",
       "27361  problem want follow underneath insane asylum w...       1\n",
       "11589  little dive deadend road call crosseyed cricke...       1\n",
       "...                                                  ...     ...\n",
       "26073  scum earth come yeah kill yeah destroy yeah he...       1\n",
       "15431  cold blue swastika tattoo skin vein staple chi...       1\n",
       "25918  official come cripple leave maim silent tameda...       1\n",
       "26692  wanna defile desecrate mind rely wanna break c...       1\n",
       "15848  restless sinner rest face hold fill days dark ...       1\n",
       "\n",
       "[911 rows x 2 columns]"
      ]
     },
     "execution_count": 107,
     "metadata": {},
     "output_type": "execute_result"
    }
   ],
   "source": [
    "male_sample"
   ]
  },
  {
   "cell_type": "code",
   "execution_count": 108,
   "metadata": {},
   "outputs": [
    {
     "data": {
      "text/html": [
       "<div>\n",
       "<style scoped>\n",
       "    .dataframe tbody tr th:only-of-type {\n",
       "        vertical-align: middle;\n",
       "    }\n",
       "\n",
       "    .dataframe tbody tr th {\n",
       "        vertical-align: top;\n",
       "    }\n",
       "\n",
       "    .dataframe thead th {\n",
       "        text-align: right;\n",
       "    }\n",
       "</style>\n",
       "<table border=\"1\" class=\"dataframe\">\n",
       "  <thead>\n",
       "    <tr style=\"text-align: right;\">\n",
       "      <th></th>\n",
       "      <th>lyrics</th>\n",
       "    </tr>\n",
       "    <tr>\n",
       "      <th>gender</th>\n",
       "      <th></th>\n",
       "    </tr>\n",
       "  </thead>\n",
       "  <tbody>\n",
       "    <tr>\n",
       "      <th>0</th>\n",
       "      <td>1237</td>\n",
       "    </tr>\n",
       "    <tr>\n",
       "      <th>1</th>\n",
       "      <td>1237</td>\n",
       "    </tr>\n",
       "  </tbody>\n",
       "</table>\n",
       "</div>"
      ],
      "text/plain": [
       "        lyrics\n",
       "gender        \n",
       "0         1237\n",
       "1         1237"
      ]
     },
     "execution_count": 108,
     "metadata": {},
     "output_type": "execute_result"
    }
   ],
   "source": [
    "df_modern = pd.concat([male_sample, df_genius, fem_df])\n",
    "df_modern.groupby(\"gender\").count()"
   ]
  },
  {
   "cell_type": "code",
   "execution_count": 109,
   "metadata": {},
   "outputs": [],
   "source": [
    "df_modern.to_csv(\"df_modern.csv\", index=False)\n",
    "df_modern.to_csv(\"df_modern_indexed.csv\")"
   ]
  }
 ],
 "metadata": {
  "kernelspec": {
   "display_name": "Python 3",
   "language": "python",
   "name": "python3"
  },
  "language_info": {
   "codemirror_mode": {
    "name": "ipython",
    "version": 3
   },
   "file_extension": ".py",
   "mimetype": "text/x-python",
   "name": "python",
   "nbconvert_exporter": "python",
   "pygments_lexer": "ipython3",
   "version": "3.7.6"
  }
 },
 "nbformat": 4,
 "nbformat_minor": 4
}
