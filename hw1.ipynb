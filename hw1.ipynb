{
 "cells": [
  {
   "cell_type": "markdown",
   "metadata": {},
   "source": [
    "### Часть 1 и 2.\n",
    "\n",
    "Датасет взят [отсюда](https://github.com/snkim/AutomaticKeyphraseExtraction/blob/master/Schutz2008.tar.gz). После обработки xml-файлов, процесс которой запечатлен в этом разделе, я получил тот датасет, который лежит в гитхабе (а именно, файлы ``.txt`` и ``.keywords``).\n",
    "\n",
    "Собственную разметку ключевых слов я положил в тот же репозиторий, файлы с расширениями ``.mykeywords``.\n",
    "\n",
    "Структура у ``.keywords`` и ``.mykeywords`` одинаковая: ключевые фразы разделены символом новой строки.\n",
    "\n",
    "За эталон разметки принято пересечение множеств ключевых слов."
   ]
  },
  {
   "cell_type": "code",
   "execution_count": 1,
   "metadata": {},
   "outputs": [],
   "source": [
    "import os\n",
    "import re\n",
    "from bs4 import BeautifulSoup\n",
    "import random"
   ]
  },
  {
   "cell_type": "code",
   "execution_count": 2,
   "metadata": {},
   "outputs": [],
   "source": [
    "CURR = os.getcwd()\n",
    "ROOT = 'Schutz2008'\n",
    "TEXTS = 'FinalXML'\n",
    "KEY_WORDS = 'quantitative-evaluation-dataset'\n",
    "if 'my_dataset' not in os.listdir():\n",
    "    os.mkdir('my_dataset')\n",
    "\n",
    "\n",
    "raw_texts = os.listdir(os.path.join(CURR, ROOT, TEXTS))\n",
    "\n",
    "def resub(x):\n",
    "    x = re.sub('\\xa0', ' ', x)\n",
    "    return re.sub(' \\[[^\\]]+\\]', '', x)"
   ]
  },
  {
   "cell_type": "code",
   "execution_count": 3,
   "metadata": {},
   "outputs": [],
   "source": [
    "chosen_texts = random.sample(raw_texts, 5)\n",
    "\n",
    "for title in chosen_texts:\n",
    "    rtitle = title.rsplit('.', maxsplit=1)[0]\n",
    "    \n",
    "    ## text part\n",
    "    path = os.path.join(CURR, ROOT, TEXTS, title)\n",
    "    \n",
    "    with open(path, 'r', encoding='utf-8') as f:\n",
    "        fList = []\n",
    "        lines = f.readlines()\n",
    "        for line in lines:\n",
    "            soup = BeautifulSoup(line, 'lxml')\n",
    "            p_s = soup.find_all('p')\n",
    "            if p_s:\n",
    "                fList.extend(list(p_s))\n",
    "        \n",
    "    art_text = '\\n'.join([resub(x.text).strip() for x in fList])\n",
    "    \n",
    "    with open(os.path.join(CURR, 'my_dataset', rtitle + '.txt'), 'w', encoding='utf-8') as fw:\n",
    "        fw.write(art_text)\n",
    "        \n",
    "    ## keywords part\n",
    "    ## tbn: I only use keywords that were assigned by authors or publishers;\n",
    "    ## some of predicted keywords will be used as my own, though\n",
    "    path = os.path.join(CURR, ROOT, KEY_WORDS, title)\n",
    "    with open(path, 'r', encoding='utf-8') as f:\n",
    "        kList = []\n",
    "        \n",
    "        ksoup = BeautifulSoup(f.read(), 'lxml')\n",
    "        GS = ksoup.find('gold-standard')\n",
    "        for term in GS.find_all('keyphrase'):\n",
    "            kList.append(str(term.get('term')))\n",
    "        \n",
    "    \n",
    "            \n",
    "    with open(os.path.join(CURR, 'my_dataset', rtitle + '.keywords'), 'w', encoding='utf-8') as fk:\n",
    "        fk.write('\\n'.join(kList))"
   ]
  },
  {
   "cell_type": "code",
   "execution_count": 4,
   "metadata": {},
   "outputs": [
    {
     "name": "stdout",
     "output_type": "stream",
     "text": [
      "['Pediatr_Radiol-4-1-2292494.xml', 'Evid_Based_Complement_Alternat_Med-4-1-1810371.xml', 'BMC_Struct_Biol-4-_-331416.xml', 'J_Chem_Ecol-4-1-2292484.xml', 'Int_J_Cardiovasc_Imaging-4-1-2233708.xml']\n"
     ]
    }
   ],
   "source": [
    "print(chosen_texts)\n",
    "# output:\n",
    "##[\n",
    "## 'Pediatr_Radiol-4-1-2292494.xml',\n",
    "## 'Evid_Based_Complement_Alternat_Med-4-1-1810371.xml',\n",
    "## 'BMC_Struct_Biol-4-_-331416.xml',\n",
    "## 'J_Chem_Ecol-4-1-2292484.xml', \n",
    "## 'Int_J_Cardiovasc_Imaging-4-1-2233708.xml'\n",
    "##]"
   ]
  },
  {
   "cell_type": "code",
   "execution_count": 11,
   "metadata": {},
   "outputs": [],
   "source": [
    "import RAKE\n",
    "import nltk\n",
    "from nltk.corpus import stopwords, wordnet\n",
    "from nltk.stem import WordNetLemmatizer\n",
    "from nltk.tokenize import sent_tokenize\n",
    "\n",
    "lemmatizer = WordNetLemmatizer()\n",
    "rake = RAKE.Rake(stopwords.words('english'))\n",
    "\n",
    "MD = 'my_dataset'"
   ]
  },
  {
   "cell_type": "code",
   "execution_count": null,
   "metadata": {},
   "outputs": [],
   "source": []
  },
  {
   "cell_type": "code",
   "execution_count": 12,
   "metadata": {},
   "outputs": [],
   "source": [
    "def get_wordnet_pos(word):\n",
    "    \"\"\"Map POS tag to first character lemmatize() accepts\"\"\"\n",
    "    tag = nltk.pos_tag([word])[0][1][0].upper()\n",
    "    tag_dict = {\"J\": wordnet.ADJ,\n",
    "                \"N\": wordnet.NOUN,\n",
    "                \"V\": wordnet.VERB,\n",
    "                \"R\": wordnet.ADV}\n",
    "\n",
    "    return tag_dict.get(tag, wordnet.NOUN)\n",
    "\n",
    "def normText(text):\n",
    "    sents = []\n",
    "    for sent in sent_tokenize(text):\n",
    "        lemmas = []\n",
    "        for t in nltk.word_tokenize(sent):\n",
    "            lemmas.append(lemmatizer.lemmatize(t.lower(), get_wordnet_pos(t)))\n",
    "        sents.append(' '.join(lemmas))\n",
    "    return '.'.join(sents)"
   ]
  },
  {
   "cell_type": "code",
   "execution_count": 13,
   "metadata": {},
   "outputs": [
    {
     "name": "stdout",
     "output_type": "stream",
     "text": [
      "5\n"
     ]
    }
   ],
   "source": [
    "kw_files = [x for x in os.listdir('./my_dataset') if x.endswith('keywords')]\n",
    "#print(kw_files)\n",
    "\n",
    "keyDict = {}\n",
    "papers = {}\n",
    "\n",
    "for ftitle in kw_files:\n",
    "    kDkey = ftitle.rsplit('.', maxsplit=1)[0]\n",
    "    with open(os.path.join(CURR, MD, ftitle), 'r', encoding='utf-8') as fkw:\n",
    "        kList = [re.sub('\\xa0', ' ', x.strip()) for x in fkw.readlines()]\n",
    "        if kDkey in keyDict:\n",
    "            keyDict[kDkey].extend(kList)\n",
    "        else:\n",
    "            keyDict[kDkey] = kList\n",
    "            \n",
    "for k in keyDict:\n",
    "    papers[k] = {}\n",
    "    papers[k]['kw'] = list(set(keyDict[k]))\n",
    "    \n",
    "txt_files = [x for x in os.listdir('./my_dataset') if x.endswith('txt')]\n",
    "\n",
    "for txt in txt_files:\n",
    "    with open(\n",
    "        os.path.join(CURR, MD, txt), 'r', encoding='utf-8'\n",
    "    ) as f:\n",
    "        raw_text = f.read()\n",
    "    papers[txt.rsplit('.', maxsplit=1)[0]]['text'] = normText(raw_text)\n",
    "    \n",
    "print(len(papers))"
   ]
  },
  {
   "cell_type": "markdown",
   "metadata": {},
   "source": [
    "### Часть 3"
   ]
  },
  {
   "cell_type": "code",
   "execution_count": 14,
   "metadata": {
    "collapsed": true
   },
   "outputs": [
    {
     "name": "stdout",
     "output_type": "stream",
     "text": [
      "{'BMC_Struct_Biol-4-_-331416': [('ψ-blast/quest search strategy', 17.984848484848484), ('small c-terminal domain', 11.643120393120393), ('α-carbon trace', 8.924242424242424), ('n-terminal domain', 8.67089817089817), ('murine leukaemia virus', 8.5), ('c-terminal domain', 8.393120393120393), ('major homology region', 8.2), ('mid-line divide', 7.9), ('amino acid type', 7.888888888888889), ('secondary structure element', 7.766210045662101), ('ψ-blast', 7.75), ('predict secondary structure', 7.742400521852577), ('different colour scheme', 7.625), ('capsid protein domain', 7.480090090090091), ('reasonable overall agreement', 7.403846153846153), ('predict β-structure', 7.37573385518591), ('different parameter combination', 7.272727272727273), ('four capsid protein', 7.167777777777779), ('retroviral capsid protein', 7.086969696969698), ('databank search use', 7.080532212885154), ('fv1 gene product', 7.019607843137255), ('multiple structure alignment', 6.95584968530174), ('significant sequence similarity', 6.942083675143561), ('best combine score', 6.905982905982906), ('secondary structure prediction', 6.766210045662101), ('top two panel', 6.7214285714285715), ('unweighted rmsd measure', 6.647058823529411), ('weight rmsd measure', 6.647058823529411), ('see method sectn', 6.555555555555555), ('sequence match component', 6.437735849056605), ('know structure use', 6.253885115690111), ('mst parameter varied', 6.072727272727273), ('1qrja base model', 5.962376574736126), ('secondary structure', 5.099543378995434), ('red = α', 4.979797979797979), ('two measure', 4.929411764705883), ('l family', 4.910714285714286), ('predict structure', 4.87573385518591), ('structural component', 4.8545454545454545), ('relative shift', 4.725), ('capsid protein', 4.723333333333334), ('thread method', 4.722222222222222), ('parameter combination', 4.647727272727273), ('method sectn', 4.555555555555555), ('related sequence', 4.537735849056604), ('fv1 gene', 4.519607843137255), ('know structure', 4.518590998043052), ('protein databank', 4.511904761904762), ('green = β', 4.5), ('combine score', 4.461538461538462), ('four model', 4.421972534332085), ('similarity among', 4.415458937198068), ('retroviral sequence', 4.4013722126929675), ('biotechnology information', 4.4), ('amino half', 4.388888888888889), ('know helix', 4.380952380952381), ('consensus model', 4.37752808988764), ('two model', 4.37752808988764), ('sequence similarity', 4.34208367514356), ('loop region', 4.31764705882353), ('model base', 4.295709908069458), ('red line', 4.288888888888889), ('herv-l', 4.285714285714286), ('agreement among', 4.264957264957265), ('mst program', 4.25), ('sequence indicate', 4.2377358490566035), ('fv1 sequence', 4.20440251572327), ('core region', 4.2), ('identical sequence', 4.180592991913747), ('complete agreement', 4.153846153846153), ('fv1 model', 4.144194756554307), ('control model', 4.144194756554307), ('minor helix', 4.095238095238095), ('template structure', 4.090019569471624), ('sequence identifier', 4.037735849056604), ('sequence alignment', 4.010708822029577), ('carboxy half', 4.0), ('x-axis', 4.0), ('y-axis', 4.0), ('consider sufficient', 4.0), ('colour green', 4.0), ('sap program', 4.0), ('national centre', 4.0), ('common core', 4.0), ('current application', 4.0), ('previous section', 4.0), ('result model', 3.9775280898876404), ('prefer model', 3.9775280898876404), ('show along', 3.9696969696969697), ('helix n4', 3.928571428571429), ('probe sequence', 3.9044025157232705), ('large insert', 3.866666666666667), ('gap-penalty', 3.857142857142857), ('mlv sequence', 3.8454281567489117), ('ca protein', 3.816666666666667), ('mlv model', 3.7852203975799483), ('probe provide', 3.7666666666666666), ('displayed twice', 3.666666666666667), ('psid value', 3.666666666666667), ('align sequence', 3.637735849056604), ('model construct', 3.6138917262512766), ('mlv ca', 3.541025641025641), ('similar way', 3.466666666666667), ('1d1da model', 3.362143474503025), ('show superpose', 3.1363636363636367), ('search', 2.9166666666666665), ('quest', 2.8181818181818183), ('fu·fu', 2.8), ('n', 2.7777777777777777), ('domain', 2.7567567567567566), ('predict', 2.642857142857143), ('virus', 2.5), ('c', 2.5), ('two', 2.4), ('base', 2.3181818181818183), ('similarity', 2.3043478260869565), ('parameter', 2.272727272727273), ('structure', 2.232876712328767), ('amino', 2.2222222222222223), ('region', 2.2), ('large', 2.2), ('fv1', 2.1666666666666665), ('agreement', 2.1538461538461537), ('loop', 2.1176470588235294), ('rmsd', 2.1176470588235294), ('shift', 2.1), ('helix', 2.0952380952380953), ('protein', 2.0833333333333335), ('one', 2.0714285714285716), ('sequence', 2.0377358490566038), ('consistent', 2.0), ('match', 2.0), ('mst', 2.0), ('colour', 2.0), ('see', 2.0), ('follow', 2.0), ('result', 2.0), ('22 % identity', 2.0), ('weight', 2.0), ('correspond', 2.0), ('report', 2.0), ('unweighted', 2.0), ('value', 2.0), ('combine', 2.0), ('model', 1.9775280898876404), ('alignment', 1.972972972972973), ('provide', 1.9), ('red', 1.8888888888888888), ('described', 1.875), ('set', 1.875), ('probe', 1.8666666666666667), ('template', 1.8571428571428572), ('carboxy', 1.8333333333333333), ('well', 1.8333333333333333), ('f', 1.8333333333333333), ('mlv', 1.8076923076923077), ('varied', 1.8), ('suggest', 1.8), ('target', 1.75), ('register', 1.75), ('sap', 1.75), ('blue', 1.75), ('use', 1.7352941176470589), ('ca', 1.7333333333333334), ('pdb', 1.6666666666666667), ('confidence', 1.6666666666666667), ('would', 1.6666666666666667), ('1qrja', 1.6666666666666667), ('include', 1.6666666666666667), ('similar', 1.6666666666666667), ('prediction', 1.6666666666666667), ('right', 1.6666666666666667), ('define', 1.6666666666666667), ('pair', 1.6666666666666667), ('psid', 1.6666666666666667), ('choose', 1.6666666666666667), ('100 psid', 1.6666666666666667), ('construct', 1.6363636363636365), ('show', 1.6363636363636365), ('mhr', 1.6), ('eiav', 1.6), ('align', 1.6), ('1eia', 1.5833333333333333), ('top', 1.5714285714285714), ('select', 1.5555555555555556), ('number', 1.5), ('range', 1.5), ('marked', 1.5), ('fw', 1.5), ('typically', 1.5), ('superpose', 1.5), ('representative', 1.5), ('give', 1.4), ('rsv', 1.4), ('fu', 1.4), ('comparison', 1.4), ('take', 1.4), ('1d1da', 1.3846153846153846), ('n5', 1.375), ('compare', 1.3333333333333333), ('accurate', 1.3333333333333333), ('cell', 1.3333333333333333), ('detail', 1.3333333333333333), ('urmsd = 5', 1.3333333333333333), ('uncertainty', 1.3333333333333333), ('derive', 1.3333333333333333), ('urmsd', 1.3333333333333333), ('part', 1.3333333333333333), ('1e6jp', 1.3076923076923077), ('wrmsd = 1', 1.2857142857142858), ('wrmsd', 1.2857142857142858), ('identify', 1.25), ('n1', 1.25), ('others', 1.25), ('fragment', 1.25), ('molecule', 1.25), ('found', 1.2), ('extract', 1.2), ('degree', 1.2), ('htlv-', 1.2), ('end', 1.2), ('step', 1.1666666666666667), ('calculate', 1.1), ('interact', 1.0), ('series', 1.0), ('mechanism', 1.0), ('make', 1.0), ('call', 1.0), ('three', 1.0), ('incorporates', 1.0), ('orientation', 1.0), ('however', 1.0), ('introduce', 1.0), ('table 1', 1.0), ('particular', 1.0), ('contains', 1.0), ('table 0', 1.0), ('possible', 1.0), ('start', 1.0), ('`` seed', 1.0), ('subtable', 1.0), ('b', 1.0), ('gi', 1.0), ('pass', 1.0), ('view', 1.0), ('apparent', 1.0), ('figure 2', 1.0), ('basis', 1.0), ('fv', 1.0), ('g = 30', 1.0), ('taylor', 1.0), ('orange', 1.0), ('order', 1.0), ('plot', 1.0), ('g = 10→90', 1.0), ('respectively', 1.0), ('ambiguous', 1.0), ('although', 1.0), ('justify', 1.0), ('adoption', 1.0), ('figure 3', 1.0), ('approximately', 1.0), ('figure 8', 1.0), ('try', 1.0), ('g = 20', 1.0), ('expect', 1.0), ('figure 5', 1.0), ('figure 6', 1.0), ('table 3', 1.0), ('tabulate', 1.0), ('table 4', 1.0), ('g', 1.0), ('exception', 1.0), ('figure 7', 1.0), ('majority', 1.0), ('likely', 1.0), ('despite', 1.0), ('nrdb', 1.0), ('ncbi', 1.0), ('distinguish', 1.0), ('iteration', 1.0), ('reduce', 1.0), ('find', 1.0), ('sse', 1.0), ('rather', 1.0), ('restore', 1.0), ('criterion', 1.0), ('4', 0), ('= 7', 0), ('1997', 0), ('= 0→9', 0), ('10', 0), ('3', 0), ('5', 0), ('6', 0), ('18', 0), ('0', 0), ('5 %', 0), ('1', 0), ('8', 0), ('7', 0), ('= 9', 0), ('9', 0), ('220', 0), ('2', 0), ('20 %', 0)], 'Evid_Based_Complement_Alternat_Med-4-1-1810371': [('smoking-induced dna damage', 11.785714285714286), ('green tea polyphenols', 7.351687090817526), ('green tea may', 7.280258519388955), ('green tea exposure', 6.580258519388955), ('dna damage', 5.833333333333334), ('tea polyphenols', 4.919254658385094), ('non-smokers', 4.833333333333334), ('green tea', 4.780258519388955), ('high level', 4.566666666666666), ('human study', 4.52), ('cigarette smoke', 4.458333333333334), ('science direct', 4.333333333333334), ('single dose', 4.333333333333334), ('lung cancer', 4.281818181818181), ('lung tissue', 4.181818181818182), ('two cup', 4.138888888888889), ('epidemiological study', 4.12), ('tobacco carcinogen', 4.1), ('three cup', 4.055555555555555), ('relevant article', 4.0), ('far paper', 4.0), ('reference list', 4.0), ('experimental study', 3.8342857142857145), ('vitro study', 3.72), ('carcinogen exposure', 3.7), ('protective effect', 3.571428571428571), ('animal study', 3.548571428571429), ('‘ tea', 2.347826086956522), ('‘ smoking', 2.2857142857142856), ('tobacco', 2.2), ('study', 2.12), ('dose', 2.0), ('effect', 2.0), ('carcinogen', 1.9), ('exposure', 1.8), ('cell', 1.8), ('plasma', 1.8), ('experimental', 1.7142857142857142), ('review', 1.6666666666666667), ('death', 1.6666666666666667), ('incidence', 1.6666666666666667), ('nnk', 1.6666666666666667), ('randomize', 1.6666666666666667), ('8-ohdg', 1.6666666666666667), ('evidence', 1.6), ('vitro', 1.6), ('protective', 1.5714285714285714), ('period', 1.5714285714285714), ('suggest', 1.5), ('show', 1.5), ('egcg', 1.5), ('animal', 1.4285714285714286), ('risk', 1.4), ('mouse', 1.4), ('reduction', 1.3333333333333333), ('smoker', 1.2857142857142858), ('change', 1.2), ('consumption', 1.0), ('locate', 1.0), ('ovid', 1.0), ('without', 1.0), ('restriction', 1.0), ('language', 1.0), ('obtain', 1.0), ('however', 1.0), ('follow-', 1.0), ('confirm', 1.0), ('example', 1.0), ('likely', 1.0), ('expose', 1.0), ('bpde', 1.0), ('concentration', 1.0), ('water', 1.0), ('correspond', 1.0), ('formation', 1.0), ('120 min', 1.0), ('4 week', 1.0), ('observe', 1.0), ('frequency', 1.0), ('sce', 1.0), ('measure', 1.0), ('treatment', 1.0), ('phase', 1.0), ('1', 0), ('2', 0), ('4', 0), ('22', 0), ('35', 0), ('32', 0), ('23', 0), ('29', 0), ('33', 0), ('34', 0), ('36', 0), ('0', 0), ('37', 0), ('38', 0), ('30', 0), ('27', 0), ('40', 0), ('25', 0)], 'Int_J_Cardiovasc_Imaging-4-1-2233708': [('spoil gradient-echo image', 13.262295081967213), ('cobalt chromium alloy', 9.0), ('316l stainless steel', 9.0), ('white arrow head', 9.0), ('left ventricular cavity', 8.714285714285715), ('left ventricular function', 8.114285714285714), ('null remote myocardium', 7.9375), ('heart-lung interface', 7.933333333333334), ('dark band artifact', 7.072727272727272), ('ssfp cine image', 6.809663503019845), ('mean stent length', 6.78921568627451), ('although cine image', 6.542996836353177), ('perform cmr scan', 5.364081632653061), ('left ventricle', 5.0476190476190474), ('ssfp image', 4.862295081967213), ('dark band', 4.8), ('regional function', 4.733333333333333), ('small artifact', 4.672727272727273), ('gradient performance', 4.666666666666667), ('flow artifact', 4.636363636363637), ('field strength', 4.628571428571428), ('heart beat', 4.6), ('far optimization', 4.583333333333334), ('coronary stent', 4.5), ('cmr examination', 4.493333333333334), ('stent artifact', 4.478609625668449), ('clinical event', 4.444444444444445), ('image quality', 4.401183970856102), ('contrast dose', 4.375), ('slew rate', 4.333333333333334), ('trigger every', 4.333333333333334), ('baseline characteristic', 4.333333333333334), ('extensive artifact', 4.272727272727273), ('primary pci', 4.266666666666667), ('myocardial infarction', 4.25), ('repeat intervention', 4.25), ('cine image', 4.209663503019844), ('stent implantation', 4.205882352941177), ('pulse sequence', 4.2), ('lge image', 4.157031924072476), ('b1 inhomogeneity', 4.142857142857142), ('mr system', 4.142857142857142), ('4 excellent quality', 4.138888888888889), ('1 poor quality', 4.138888888888889), ('2 moderate quality', 4.138888888888889), ('3 good quality', 4.138888888888889), ('infarcted myocardium', 4.1375), ('primary stenting', 4.1), ('stent position', 4.03921568627451), ('different patient', 4.010526315789473), ('repeat catheterization', 4.0), ('chronic phase', 4.0), ('temporal resolution', 4.0), ('excitation angle', 4.0), ('tr/te', 4.0), ('voxel size', 4.0), ('2 mmol/kg', 4.0), ('sequence parameter', 4.0), ('clinically relevant', 4.0), ('75th percentile', 4.0), ('abbott vascular', 4.0), ('localize shimming', 4.0), ('viable myocardium', 3.9375), ('mean number', 3.9333333333333336), ('patency compare', 3.866666666666667), ('clinical purpose', 3.861111111111111), ('clinical use', 3.847953216374269), ('evaluate safety', 3.833333333333333), ('clinically useful', 3.833333333333333), ('slice position', 3.833333333333333), ('quantitative analysis', 3.8181818181818183), ('cmr scan', 3.79265306122449), ('inversion time', 3.75), ('patient treat', 3.7105263157894735), ('one patient', 3.7105263157894735), ('patient underwent', 3.7105263157894735), ('sometimes difficult', 3.666666666666667), ('acute phase', 3.583333333333333), ('sufficient quality', 3.567460317460317), ('visually assess', 3.4), ('consensus score', 3.375), ('global assessment', 3.321428571428571), ('patient report', 3.310526315789474), ('flow', 2.3636363636363638), ('artifact', 2.272727272727273), ('image', 2.262295081967213), ('stent', 2.2058823529411766), ('cmr', 2.16), ('system', 2.0), ('test', 2.0), ('cine', 1.9473684210526316), ('myocardium', 1.9375), ('lge', 1.894736842105263), ('diameter', 1.8571428571428572), ('evaluate', 1.8333333333333333), ('analysis', 1.8181818181818181), ('method', 1.8), ('suppression', 1.75), ('use', 1.736842105263158), ('difference', 1.7142857142857142), ('patient', 1.7105263157894737), ('12 patient', 1.7105263157894737), ('without', 1.6666666666666667), ('evaluation', 1.6666666666666667), ('optimize', 1.6666666666666667), ('18 scan', 1.6326530612244898), ('scan', 1.6326530612244898), ('6 scan', 1.6326530612244898), ('7 scan', 1.6326530612244898), ('report', 1.6), ('number', 1.6), ('acute', 1.5833333333333333), ('perform', 1.5714285714285714), ('assessment', 1.5714285714285714), ('study', 1.5), ('netherlands', 1.5), ('set', 1.5), ('sufficient', 1.4285714285714286), ('assess', 1.4), ('score', 1.375), ('result', 1.3333333333333333), ('well', 1.3333333333333333), ('visible', 1.3333333333333333), ('day', 1.3333333333333333), ('cause', 1.3333333333333333), ('due', 1.25), ('p < 0', 1.25), ('mi', 1.2142857142857142), ('present', 1.1666666666666667), ('possible', 1.1428571428571428), ('comparison', 1.0), ('acquire', 1.0), ('additionally', 1.0), ('safe', 1.0), ('essential', 1.0), ('however', 1.0), ('presence', 1.0), ('limited', 1.0), ('induced', 1.0), ('feasible', 1.0), ('furthermore', 1.0), ('consider', 1.0), ('accord', 1.0), ('0 mm3', 1.0), ('obtain', 1.0), ('discomfort', 1.0), ('symptom', 1.0), ('addition', 1.0), ('distinguish', 1.0), ('segment', 1.0), ('despite', 1.0), ('case', 1.0), ('median', 1.0), ('25th', 1.0), ('list', 1.0), ('shortly', 1.0), ('none', 1.0), ('hospitalization', 1.0), ('4 mm', 1.0), ('medtronic', 1.0), ('biotronik', 1.0), ('3 mm', 1.0), ('fig', 1.0), ('demonstrate', 1.0), ('b', 1.0), ('observe', 1.0), ('also', 1.0), ('comparable', 1.0), ('heating', 1.0), ('large', 1.0), ('snr', 1.0), ('cnr', 1.0), ('3', 0), ('0', 0), ('1', 0), ('5', 0), ('4', 0), ('44 %', 0), ('/', 0), ('53 %', 0), ('12 %', 0), ('50', 0), ('9', 0), ('6', 0), ('4 × 1', 0), ('10', 0), ('25°', 0), ('7', 0), ('2 ± 0', 0), ('33 %', 0), ('2', 0)], 'J_Chem_Ecol-4-1-2292484': [('wallis one-way anova', 13.037767379679146), ('4-week-old cotton plant', 10.26984126984127), ('hedin et al', 9.10909090909091), ('stipanovic et al', 9.10909090909091), ('bezemer et al', 9.10909090909091), ('koch et al', 9.10909090909091), ('frischknecht et al', 9.10909090909091), ('one-way anova', 9.037767379679146), ('non-treated plant', 8.444444444444445), ('mcauslane et al', 8.442424242424243), ('least one third', 8.40909090909091), ('alder-type reaction', 8.375), ('generalize linear model', 8.25), ('baldwin et al', 8.10909090909091), ('fabric pattern wheel', 7.923076923076923), ('alborn et al', 7.859090909090909), ('high fitness value', 7.7), ('post hoc test', 7.588235294117647), ('three structural class', 7.348484848484848), ('subepidermal pigment gland', 7.25), ('normally distribute data', 7.166666666666666), ('herbivore-treated plant', 7.005982905982906), ('ja-treated plant', 6.988888888888889), ('-β-ocimene increase', 6.933333333333334), ('among terpenoid aldehyde', 6.921850079744817), ('terpenoids per gland', 6.655172413793103), ('herbivore-damaged plant', 6.60915750915751), ('total cotton foliage', 6.48167701863354), ('available leaf material', 6.378787878787879), ('spodoptera littoralis caterpillar', 6.269841269841271), ('internal ja level', 6.1611111111111105), ('mechanically damage plant', 6.055284552845529), ('jasmonic acid treatment', 5.974025974025975), ('one week', 5.909090909090909), ('normally distribute', 5.333333333333333), ('old leaf', 5.146464646464647), ('-β-ocimene', 5.088888888888889), ('one group', 4.909090909090909), ('herbivore-damaged', 4.675824175824176), ('reproductive organ', 4.6), ('terpenoid aldehyde', 4.588516746411484), ('either damage', 4.550522648083623), ('jasmonic acid', 4.545454545454546), ('β-pinene', 4.533333333333333), ('subepidermal gland', 4.5), ('individual leaf', 4.46969696969697), ('available material', 4.454545454545455), ('gland density', 4.428571428571429), ('one cotyledon', 4.409090909090909), ('spodoptera littoralis', 4.380952380952381), ('leaf material', 4.378787878787879), ('total foliage', 4.3673913043478265), ('three class', 4.348484848484848), ('high increase', 4.344444444444445), ('growth stage', 4.333333333333334), ('second group', 4.333333333333334), ('mass spectrum', 4.333333333333334), ('correspond leaf', 4.324242424242424), ('leaf position', 4.299242424242424), ('terpenoid product', 4.272727272727273), ('individual terpenoids', 4.200626959247649), ('single leaf', 4.196969696969697), ('foliage area', 4.18125), ('mechanical damage', 4.121951219512195), ('gossypium hirsutum', 4.1190476190476195), ('significant difference', 4.102564102564102), ('induced plant', 4.058333333333334), ('high level', 4.05), ('gradual increase', 4.044444444444444), ('cotton leaf', 4.038528138528139), ('feed deterrent', 4.0), ('exist gland', 4.0), ('additional gland', 4.0), ('glandular trichomes', 4.0), ('spider mite', 4.0), ('national institute', 4.0), ('mass spectrometry', 4.0), ('fed upon', 4.0), ('lima bean', 4.0), ('considerable difference', 3.9692307692307693), ('generalist herbivore', 3.9615384615384617), ('leaf area', 3.9554924242424243), ('young tissue', 3.9523809523809526), ('control accord', 3.9456521739130435), ('plant defense', 3.880701754385965), ('young leaf', 3.8766233766233764), ('terpenoid production', 3.872727272727273), ('terpenoid level', 3.822727272727273), ('terpenoid accumulation', 3.8181818181818183), ('among monoterpenes', 3.8095238095238098), ('total number', 3.800724637681159), ('fourth day', 3.8), ('7 day previously', 3.8), ('follow order', 3.791666666666667), ('heliocide h1', 3.7272727272727275), ('increase fill', 3.7015873015873018), ('control group', 3.6956521739130435), ('untreated control', 3.6956521739130435), ('liquid nitrogen', 3.666666666666667), ('sigma stat 2', 3.666666666666667), ('first day', 3.6571428571428575), ('control plant', 3.6289855072463766), ('control leaf', 3.6198945981554678), ('gland number', 3.583333333333333), ('large variety', 3.571428571428571), ('simulated herbivory', 3.5402298850574714), ('separately analyze', 3.5), ('include monoterpenes', 3.4761904761904763), ('elevate level', 3.438888888888889), ('heliocides h1', 3.393939393939394), ('far analysis', 3.391304347826087), ('ja treatment', 3.373015873015873), ('low effect', 3.2962962962962963), ('larva consume', 3.2142857142857144), ('glm see', 3.1666666666666665), ('mean level', 2.9785714285714286), ('anova', 2.9411764705882355), ('use dunn', 2.835714285714286), ('reaction', 2.375), ('among', 2.3333333333333335), ('mcauslane', 2.3333333333333335), ('compare', 2.1666666666666665), ('class', 2.1666666666666665), ('response', 2.1666666666666665), ('foliage', 2.15), ('induced', 2.125), ('damage', 2.1219512195121952), ('cotton', 2.1142857142857143), ('specie', 2.111111111111111), ('concentration', 2.1), ('compound', 2.0588235294117645), ('area', 2.03125), ('available', 2.0), ('gland', 2.0), ('water', 2.0), ('frozen', 2.0), ('change', 2.0), ('3 mechanically', 2.0), ('mechanically', 2.0), ('feed', 2.0), ('growth', 2.0), ('herbivore', 1.9615384615384615), ('young', 1.9523809523809523), ('defense', 1.9473684210526316), ('ja', 1.9444444444444444), ('plant', 1.9333333333333333), ('leaf', 1.9242424242424243), ('leaf 1', 1.9242424242424243), ('leaf 4', 1.9242424242424243), ('leaf 2', 1.9242424242424243), ('leaf 3', 1.9242424242424243), ('pattern', 1.9230769230769231), ('caterpillar', 1.8888888888888888), ('elevate', 1.8888888888888888), ('increase', 1.8444444444444446), ('see', 1.8333333333333333), ('data', 1.8333333333333333), ('represent', 1.8), ('terpene', 1.7857142857142858), ('hirsutum', 1.7857142857142858), ('difference', 1.7692307692307692), ('example', 1.75), ('alborn 1998', 1.75), ('alborn 2000', 1.75), ('h1', 1.7272727272727273), ('control', 1.6956521739130435), ('need', 1.6666666666666667), ('start', 1.6666666666666667), ('base', 1.6666666666666667), ('heliocides 1', 1.6666666666666667), ('lc', 1.6666666666666667), ('heliocides', 1.6666666666666667), ('cause', 1.6666666666666667), ('alter', 1.6666666666666667), ('gossypol', 1.6666666666666667), ('terpenoids', 1.6551724137931034), ('production', 1.6), ('accumulate', 1.6), ('observe', 1.6), ('attack', 1.6), ('kruskall', 1.6), ('whereas', 1.6), ('test', 1.588235294117647), ('number', 1.5833333333333333), ('variety', 1.5714285714285714), ('application', 1.5714285714285714), ('level', 1.55), ('use', 1.55), ('accumulation', 1.5454545454545454), ('induction', 1.5), ('form', 1.5), ('function', 1.5), ('cotyledon', 1.5), ('range', 1.5), ('calculate', 1.5), ('content', 1.5), ('analyze', 1.5), ('n = 6', 1.5), ('impact', 1.5), ('n = 3', 1.5), ('show', 1.4782608695652173), ('monoterpenes', 1.4761904761904763), ('e', 1.4545454545454546), ('3 h', 1.4444444444444444), ('h', 1.4444444444444444), ('treatment', 1.4285714285714286), ('−20°c', 1.4285714285714286), ('160°c', 1.4285714285714286), ('mean', 1.4285714285714286), ('c', 1.4285714285714286), ('analysis', 1.391304347826087), ('sesquiterpenes', 1.3636363636363635), ('3 min', 1.3636363636363635), ('gershenzon 2002', 1.3333333333333333), ('gershenzon', 1.3333333333333333), ('enhance', 1.3333333333333333), ('precursor', 1.3333333333333333), ('procedure', 1.3333333333333333), ('variance', 1.3333333333333333), ('glm', 1.3333333333333333), ('combine', 1.3333333333333333), ('magnitude', 1.3333333333333333), ('study', 1.3125), ('effect', 1.2962962962962963), ('dunn', 1.2857142857142858), ('know', 1.25), ('h4', 1.25), ('c25', 1.25), ('determine', 1.25), ('additionally', 1.25), ('ms', 1.25), ('version 2', 1.25), ('interaction', 1.25), ('h2', 1.25), ('due', 1.25), ('exigua', 1.25), ('demonstrate', 1.25), ('g', 1.2307692307692308), ('treat', 1.2307692307692308), ('larva', 1.2142857142857142), ('herbivory', 1.206896551724138), ('development', 1.2), ('well', 1.2), ('found', 1.1818181818181819), ('c15', 1.1666666666666667), ('50 % b', 1.1428571428571428), ('61 % b', 1.1428571428571428), ('b', 1.1428571428571428), ('experiment', 1.125), ('experiment 1', 1.125), ('covariable', 1.125), ('hemigossypolone', 1.0909090909090908), ('comparison', 1.0526315789473684), ('act', 1.0), ('achieve', 1.0), ('pathogen', 1.0), ('synthesis', 1.0), ('agrawal', 1.0), ('however', 1.0), ('wittstock', 1.0), ('odt', 1.0), ('predicts', 1.0), ('mckey 1979', 1.0), ('alkaloid', 1.0), ('glucosinolates', 1.0), ('opitz', 1.0), ('c10', 1.0), ('store', 1.0), ('fig', 1.0), ('1978a', 1.0), ('addition', 1.0), ('diels', 1.0), ('formation', 1.0), ('h3', 1.0), ('biosynthesis', 1.0), ('besides', 1.0), ('amount', 1.0), ('karban 2000', 1.0), ('browse 2005', 1.0), ('investigate', 1.0), ('influence', 1.0), ('usa', 1.0), ('rear', 1.0), ('hatch', 1.0), ('germination', 1.0), ('midrib', 1.0), ('divide', 1.0), ('cage', 1.0), ('extrapolate', 1.0), ('depend', 1.0), ('100 mg', 1.0), ('extract', 1.0), ('shaken', 1.0), ('gc', 1.0), ('perform', 1.0), ('quantification', 1.0), ('quantify', 1.0), ('afterwards', 1.0), ('c30', 1.0), ('mono-', 1.0), ('significance', 1.0), ('rank', 1.0), ('codeviance', 1.0), ('r', 1.0), ('present', 1.0), ('±se', 1.0), ('mech', 1.0), ('herb', 1.0), ('left', 1.0), ('ctrl', 1.0), ('*p < 0', 1.0), ('p < 0', 1.0), ('ancovas', 1.0), ('6d', 1.0), ('contrast', 1.0), ('consistent', 1.0), ('p = 0', 1.0), ('therefore', 1.0), ('actual', 1.0), ('fact', 1.0), ('assume', 1.0), ('virescens', 1.0), ('1', 0), ('2', 0), ('2003', 0), ('2004', 0), ('2000', 0), ('1985', 0), ('1992', 0), ('1977', 0), ('4', 0), ('1997', 0), ('1996', 0), ('3', 0), ('7', 0), ('0', 0), ('50', 0), ('1999', 0), ('30', 0), ('300', 0), ('90 %', 0), ('1988', 0), ('6', 0), ('5', 0), ('03', 0), ('05', 0), ('001', 0), ('= 4', 0), ('= 5', 0), ('004', 0), ('= 2', 0), ('1987', 0), ('2005', 0), ('2001', 0), ('2007', 0)], 'Pediatr_Radiol-4-1-2292494': [('gadolinium-based contrast agent', 12.672916666666666), ('case-by-case assessment', 11.75), ('contrast-enhanced mri', 9.072222222222223), ('marckmann et al', 9.0), ('sadowski et al', 9.0), ('noncontrast-enhanced mri', 8.805555555555555), ('gadolinium contrast agent', 8.672916666666666), ('systematic prescan investigation', 8.533333333333335), ('local nephrology unit', 8.25), ('moderate renal impairment', 8.244444444444444), ('gadolinium-enhanced mri', 8.211805555555555), ('severe renal impairment', 8.07777777777778), ('nephrogenic systemic fibrosis', 8.0), ('9-year-old boy', 7.994565217391305), ('19-year-old male', 7.744565217391305), ('previous gadolinium exposure', 7.549107142857142), ('suspect renal dysfunction', 7.438888888888889), ('cumulative dose record', 7.177777777777777), ('59 ml/min/1·73 m2', 7.000000000000001), ('at-risk patient', 6.628888888888889), ('contrast agent', 6.266666666666667), ('renal impairment', 5.2444444444444445), ('vascular event', 4.8), ('renal dysfunction', 4.688888888888889), ('renal transplantation', 4.633333333333333), ('gadolinium exposure', 4.549107142857142), ('cumulative dose', 4.511111111111111), ('liver transplantation', 4.5), ('gadolinium administration', 4.40625), ('major surgery', 4.333333333333334), ('odds ratio', 4.25), ('alternative test', 4.25), ('gadolinium chelate', 4.15625), ('proinflammatory condition', 4.0), ('proinflammatory event', 4.0), ('retrospective study', 4.0), ('anion gap', 4.0), ('careful consideration', 4.0), ('laboratory test', 4.0), ('seem reasonable', 4.0), ('patients/guardians', 4.0), ('active collaboration', 4.0), ('repeat u', 4.0), ('act accordingly', 4.0), ('take advantage', 4.0), ('current knowledge', 4.0), ('confirm nsf', 3.909090909090909), ('gadodiamide administration', 3.782608695652174), ('haemodialysis may', 3.742857142857143), ('general screen', 3.7), ('first described', 3.666666666666667), ('physiopathological mechanism', 3.666666666666667), ('regulatory update', 3.666666666666667), ('haemodialysis shortly', 3.6), ('information collection', 3.6), ('patient currently', 3.5733333333333333), ('developed nsf', 3.509090909090909), ('guidance publish', 3.5), ('undergo transmetallation', 3.5), ('gfr measurement', 3.333333333333333), ('treat development', 2.8666666666666667), ('also contraindicate', 2.7857142857142856), ('mri', 2.5833333333333335), ('gadolinium', 2.40625), ('case', 2.375), ('mra', 2.25), ('fibrosis', 2.1666666666666665), ('may', 2.142857142857143), ('dose', 2.111111111111111), ('risk', 2.0555555555555554), ('kidney', 2.0), ('issue', 2.0), ('administration', 2.0), ('18 year', 1.8695652173913044), ('1 year', 1.8695652173913044), ('disease', 1.8571428571428572), ('dialysis', 1.8), ('review', 1.8), ('acidosis', 1.8), ('include', 1.8), ('gadodiamide', 1.7826086956521738), ('ct', 1.75), ('would', 1.75), ('73 m2', 1.6666666666666667), ('time', 1.6666666666666667), ('although', 1.6666666666666667), ('dissociation', 1.6666666666666667), ('history', 1.6666666666666667), ('body', 1.625), ('stable', 1.6), ('haemodialysis', 1.6), ('information', 1.6), ('child', 1.5833333333333333), ('patient', 1.5733333333333333), ('13 patient', 1.5733333333333333), ('report', 1.5714285714285714), ('nsf', 1.509090909090909), ('five', 1.5), ('link', 1.5), ('publish', 1.5), ('know', 1.5), ('transmetallation', 1.5), ('well', 1.5), ('contraindicate', 1.5), ('egfr 30', 1.5), ('screen', 1.5), ('use', 1.4666666666666666), ('suggest', 1.4285714285714286), ('age', 1.3846153846153846), ('association', 1.3333333333333333), ('recently', 1.3333333333333333), ('present', 1.3333333333333333), ('gfr', 1.3333333333333333), ('yet', 1.3333333333333333), ('clinician', 1.3333333333333333), ('probably', 1.3333333333333333), ('also', 1.2857142857142858), ('still', 1.25), ('ckd', 1.2), ('expose', 1.2), ('development', 1.2), ('day', 1.1666666666666667), ('mortality', 1.0), ('date', 1.0), ('week', 1.0), ('severity', 1.0), ('often', 1.0), ('bone', 1.0), ('especially', 1.0), ('however', 1.0), ('proliferation', 1.0), ('fibrocytes', 1.0), ('radiologist', 1.0), ('evidence', 1.0), ('omniscan', 1.0), ('uk', 1.0), ('onset', 1.0), ('receive', 1.0), ('prevent', 1.0), ('fda', 1.0), ('magnevist', 1.0), ('manufacturer', 1.0), ('presence', 1.0), ('e', 1.0), ('vitro', 1.0), ('term', 1.0), ('property', 1.0), ('relation', 1.0), ('available', 1.0), ('discuss', 1.0), ('http', 1.0), ('diagnose', 1.0), ('relationship', 1.0), ('neonate', 1.0), ('obtain', 1.0), ('request', 1.0), ('since', 1.0), ('//www', 1.0), ('omniscan®', 1.0), ('magnevist®', 1.0), ('await', 1.0), ('infant', 1.0), ('useful', 1.0), ('removal', 1.0), ('give', 1.0), ('registration', 1.0), ('access', 1.0), ('20 september 2007', 1.0), ('necessity', 1.0), ('whether', 1.0), ('acceptable', 1.0), ('reduction', 1.0), ('literature', 1.0), ('estimation', 1.0), ('part', 1.0), ('justified', 1.0), ('minimize', 1.0), ('1997', 0), ('2', 0), ('6', 0), ('4', 0), ('11', 0), ('0', 0), ('1', 0), ('3', 0), ('/', 0)]}\n"
     ]
    }
   ],
   "source": [
    "# rake keywords\n",
    "rake_keywords = {}\n",
    "\n",
    "for k in papers:\n",
    "    text = papers[k]['text']\n",
    "    rake_keywords[k] = rake.run(text, maxWords=3, minFrequency=2)\n",
    "    \n",
    "print(rake_keywords)"
   ]
  },
  {
   "cell_type": "code",
   "execution_count": 18,
   "metadata": {
    "scrolled": true
   },
   "outputs": [
    {
     "name": "stdout",
     "output_type": "stream",
     "text": [
      "BMC_Struct_Biol-4-_-331416\n",
      "('ψ-blast/quest search strategy', 17.984848484848484)\n",
      "('small c-terminal domain', 11.643120393120393)\n",
      "('α-carbon trace', 8.924242424242424)\n",
      "('n-terminal domain', 8.67089817089817)\n",
      "('murine leukaemia virus', 8.5)\n",
      "('c-terminal domain', 8.393120393120393)\n",
      "('major homology region', 8.2)\n",
      "('mid-line divide', 7.9)\n",
      "('amino acid type', 7.888888888888889)\n",
      "('secondary structure element', 7.766210045662101)\n",
      "\n",
      "\n",
      "Evid_Based_Complement_Alternat_Med-4-1-1810371\n",
      "('smoking-induced dna damage', 11.785714285714286)\n",
      "('green tea polyphenols', 7.351687090817526)\n",
      "('green tea may', 7.280258519388955)\n",
      "('green tea exposure', 6.580258519388955)\n",
      "('dna damage', 5.833333333333334)\n",
      "('tea polyphenols', 4.919254658385094)\n",
      "('non-smokers', 4.833333333333334)\n",
      "('green tea', 4.780258519388955)\n",
      "('high level', 4.566666666666666)\n",
      "('human study', 4.52)\n",
      "\n",
      "\n",
      "Int_J_Cardiovasc_Imaging-4-1-2233708\n",
      "('spoil gradient-echo image', 13.262295081967213)\n",
      "('cobalt chromium alloy', 9.0)\n",
      "('316l stainless steel', 9.0)\n",
      "('white arrow head', 9.0)\n",
      "('left ventricular cavity', 8.714285714285715)\n",
      "('left ventricular function', 8.114285714285714)\n",
      "('null remote myocardium', 7.9375)\n",
      "('heart-lung interface', 7.933333333333334)\n",
      "('dark band artifact', 7.072727272727272)\n",
      "('ssfp cine image', 6.809663503019845)\n",
      "\n",
      "\n",
      "J_Chem_Ecol-4-1-2292484\n",
      "('wallis one-way anova', 13.037767379679146)\n",
      "('4-week-old cotton plant', 10.26984126984127)\n",
      "('hedin et al', 9.10909090909091)\n",
      "('stipanovic et al', 9.10909090909091)\n",
      "('bezemer et al', 9.10909090909091)\n",
      "('koch et al', 9.10909090909091)\n",
      "('frischknecht et al', 9.10909090909091)\n",
      "('one-way anova', 9.037767379679146)\n",
      "('non-treated plant', 8.444444444444445)\n",
      "('mcauslane et al', 8.442424242424243)\n",
      "\n",
      "\n",
      "Pediatr_Radiol-4-1-2292494\n",
      "('gadolinium-based contrast agent', 12.672916666666666)\n",
      "('case-by-case assessment', 11.75)\n",
      "('contrast-enhanced mri', 9.072222222222223)\n",
      "('marckmann et al', 9.0)\n",
      "('sadowski et al', 9.0)\n",
      "('noncontrast-enhanced mri', 8.805555555555555)\n",
      "('gadolinium contrast agent', 8.672916666666666)\n",
      "('systematic prescan investigation', 8.533333333333335)\n",
      "('local nephrology unit', 8.25)\n",
      "('moderate renal impairment', 8.244444444444444)\n",
      "\n",
      "\n"
     ]
    }
   ],
   "source": [
    "## pretty print\n",
    "for k in rake_keywords:\n",
    "    print(k)\n",
    "    for x in rake_keywords[k][:10]:\n",
    "        print(x)\n",
    "    print('\\n')"
   ]
  },
  {
   "cell_type": "code",
   "execution_count": 20,
   "metadata": {},
   "outputs": [],
   "source": [
    "from gensim.summarization import keywords as gensim_kw"
   ]
  },
  {
   "cell_type": "code",
   "execution_count": 22,
   "metadata": {},
   "outputs": [],
   "source": [
    "gensim_keywords = {}\n",
    "\n",
    "for k in papers:\n",
    "    text = papers[k]['text']\n",
    "    gensim_keywords[k] = gensim_kw(text, pos_filter=[], scores=True)"
   ]
  },
  {
   "cell_type": "code",
   "execution_count": 23,
   "metadata": {
    "scrolled": true
   },
   "outputs": [
    {
     "name": "stdout",
     "output_type": "stream",
     "text": [
      "BMC_Struct_Biol-4-_-331416\n",
      "('structure', 0.2975830931287177)\n",
      "('structural', 0.2975830931287177)\n",
      "('structurally', 0.2975830931287177)\n",
      "('sequence similarity', 0.24366900094239735)\n",
      "('alignment', 0.19872406116422292)\n",
      "('align', 0.19872406116422292)\n",
      "('aligns', 0.19872406116422292)\n",
      "('protein', 0.1497781240478794)\n",
      "('virus', 0.14691822213700143)\n",
      "('use', 0.1455418339730745)\n",
      "\n",
      "\n",
      "Evid_Based_Complement_Alternat_Med-4-1-1810371\n",
      "('study', 0.3448883869552188)\n",
      "('green tea', 0.22432232868009983)\n",
      "('effect', 0.14407360760290838)\n",
      "('smoking', 0.14286313944524265)\n",
      "('smoke', 0.14286313944524265)\n",
      "('cell', 0.14210657837714682)\n",
      "('lung cancer', 0.130083440209725)\n",
      "('smoker', 0.12423563260030335)\n",
      "('use', 0.11717963293809804)\n",
      "('period', 0.113156333786339)\n",
      "\n",
      "\n",
      "Int_J_Cardiovasc_Imaging-4-1-2233708\n",
      "('image quality', 0.24501589171724514)\n",
      "('artifact', 0.23453198129741426)\n",
      "('patient', 0.22774694722505312)\n",
      "('stenting', 0.2209316263257295)\n",
      "('scan', 0.16987704023061936)\n",
      "('different', 0.1680633567266794)\n",
      "('difference', 0.1680633567266794)\n",
      "('clinically useful', 0.16552378825856148)\n",
      "('coronary stent', 0.15845655889904703)\n",
      "('study', 0.1401724699024037)\n",
      "\n",
      "\n",
      "J_Chem_Ecol-4-1-2292484\n",
      "('leaf foliage', 0.22279319363469777)\n",
      "('terpenoids', 0.19704185523688514)\n",
      "('hirsutum plant', 0.1773691249949896)\n",
      "('gland', 0.16955577490933854)\n",
      "('glanded', 0.16955577490933854)\n",
      "('increase', 0.16200674220675812)\n",
      "('defense', 0.12356912699489989)\n",
      "('defensive', 0.12356912699489989)\n",
      "('terpenoid product', 0.11990467111783519)\n",
      "('level', 0.11719061226526169)\n",
      "\n",
      "\n",
      "Pediatr_Radiol-4-1-2292494\n",
      "('patient', 0.2890207489154745)\n",
      "('patients', 0.2890207489154745)\n",
      "('nsf', 0.24306504361149583)\n",
      "('renal', 0.23658892655228056)\n",
      "('risk', 0.14349302014590237)\n",
      "('gadolinium contrast agent', 0.13929537099458517)\n",
      "('gadodiamide', 0.12987931561803615)\n",
      "('dose', 0.1075157957948316)\n",
      "('case', 0.1028259149092001)\n",
      "('use', 0.0999123289701673)\n",
      "\n",
      "\n"
     ]
    }
   ],
   "source": [
    "for k in gensim_keywords:\n",
    "    print(k)\n",
    "    for x in gensim_keywords[k][:10]:\n",
    "        print(x)\n",
    "    print('\\n')"
   ]
  },
  {
   "cell_type": "code",
   "execution_count": 24,
   "metadata": {},
   "outputs": [],
   "source": [
    "from summa import keywords as summa_kw"
   ]
  },
  {
   "cell_type": "code",
   "execution_count": 25,
   "metadata": {},
   "outputs": [],
   "source": [
    "summa_keywords = {}\n",
    "\n",
    "for k in papers:\n",
    "    text = papers[k]['text']\n",
    "    summa_keywords[k] = summa_kw.keywords(\n",
    "        text,\n",
    "        additional_stopwords=stopwords.words(\"english\"),\n",
    "        scores=True\n",
    "    )"
   ]
  },
  {
   "cell_type": "code",
   "execution_count": 27,
   "metadata": {
    "scrolled": true
   },
   "outputs": [
    {
     "name": "stdout",
     "output_type": "stream",
     "text": [
      "BMC_Struct_Biol-4-_-331416\n",
      "('structure', 0.29089168075633715)\n",
      "('structural', 0.29089168075633715)\n",
      "('structurally', 0.29089168075633715)\n",
      "('sequence similarity', 0.23033505500434412)\n",
      "('model base', 0.1904738895083125)\n",
      "('alignment', 0.1887983963883063)\n",
      "('align', 0.1887983963883063)\n",
      "('aligns', 0.1887983963883063)\n",
      "('fv', 0.17980621480890766)\n",
      "('use', 0.14381408917822588)\n",
      "\n",
      "\n",
      "Evid_Based_Complement_Alternat_Med-4-1-1810371\n",
      "('study', 0.33534373745809015)\n",
      "('green tea', 0.23274891266654635)\n",
      "('effect', 0.14144444056678368)\n",
      "('smoking', 0.13972587939025138)\n",
      "('smoke', 0.13972587939025138)\n",
      "('cell', 0.1323260245867326)\n",
      "('lung cancer', 0.1274541183241642)\n",
      "('smoker', 0.12207644003039202)\n",
      "('use', 0.11457727442543961)\n",
      "('period', 0.111266841164927)\n",
      "\n",
      "\n",
      "Int_J_Cardiovasc_Imaging-4-1-2233708\n",
      "('image quality', 0.24460917876922547)\n",
      "('artifact', 0.22529431702682076)\n",
      "('patient', 0.2222338565308309)\n",
      "('stenting', 0.2129109916930292)\n",
      "('clinically useful', 0.16630707942377376)\n",
      "('scan', 0.1639989917166909)\n",
      "('different', 0.16330058934343283)\n",
      "('difference', 0.16330058934343283)\n",
      "('coronary stent', 0.15263281551031294)\n",
      "('study', 0.13529246536167386)\n",
      "\n",
      "\n",
      "J_Chem_Ecol-4-1-2292484\n",
      "('et al', 0.20989449507334346)\n",
      "('leaf foliage', 0.20077696496791947)\n",
      "('terpenoids', 0.17467104972251948)\n",
      "('hirsutum plant', 0.16513926188599554)\n",
      "('gland', 0.14786996472633715)\n",
      "('glanded', 0.14786996472633715)\n",
      "('increase', 0.14763440784209503)\n",
      "('level', 0.11978733276057807)\n",
      "('c', 0.1187078931165733)\n",
      "('defense', 0.11192907225222785)\n",
      "\n",
      "\n",
      "Pediatr_Radiol-4-1-2292494\n",
      "('patient', 0.28663409052476063)\n",
      "('patients', 0.28663409052476063)\n",
      "('nsf', 0.23368545015712094)\n",
      "('renal', 0.227698396296979)\n",
      "('risk', 0.1380089387606728)\n",
      "('gadolinium contrast agent', 0.13201636236446768)\n",
      "('gadodiamide', 0.1230923178582805)\n",
      "('dose', 0.10226316268987327)\n",
      "('high', 0.09756902111076982)\n",
      "('tissue', 0.09743261516823604)\n",
      "\n",
      "\n"
     ]
    }
   ],
   "source": [
    "for k in summa_keywords:\n",
    "    print(k)\n",
    "    for x in summa_keywords[k][:10]:\n",
    "        print(x)\n",
    "    print('\\n')"
   ]
  },
  {
   "cell_type": "markdown",
   "metadata": {},
   "source": [
    "### Часть 5\n",
    "\n",
    "Сперва хочу посмотреть на поиск без фильтрации по частям речи, а потом уже как пойдет"
   ]
  },
  {
   "cell_type": "code",
   "execution_count": 28,
   "metadata": {},
   "outputs": [],
   "source": [
    "#lower basic keywords so that it could match\n",
    "for k in papers:\n",
    "    raw_list = papers[k]['kw']\n",
    "    papers[k]['kw'] = [x.lower() for x in raw_list]"
   ]
  },
  {
   "cell_type": "code",
   "execution_count": 29,
   "metadata": {},
   "outputs": [],
   "source": [
    "def precision(test, standard):\n",
    "    tp = 0\n",
    "    fp = 0\n",
    "    for x in test:\n",
    "        if x[0] in standard:\n",
    "            tp += 1\n",
    "        else:\n",
    "            fp += 1\n",
    "    return tp / (tp + fp)\n",
    "\n",
    "def recall(test, standard):\n",
    "    tp = 0\n",
    "    fn = 0\n",
    "    words = [x[0] for x in test]\n",
    "    for word in standard:\n",
    "        if word in words:\n",
    "            tp += 1\n",
    "        else:\n",
    "            fn += 1\n",
    "    return tp / (tp + fn)\n",
    "\n",
    "def f_score(test, standard, beta=1):\n",
    "    p = precision(test, standard)\n",
    "    r = recall(test, standard)\n",
    "    if p == 0 and r == 0:\n",
    "        return 0\n",
    "    else:\n",
    "        return (p * r) * (beta * beta + 1) / (beta * beta * p + r)"
   ]
  },
  {
   "cell_type": "code",
   "execution_count": 40,
   "metadata": {},
   "outputs": [
    {
     "name": "stdout",
     "output_type": "stream",
     "text": [
      "gensim\n",
      "f\t0.046957\n",
      "r\t0.225873\n",
      "p\t0.026567\n",
      "\n",
      "\n",
      "rake\n",
      "f\t0.039184\n",
      "r\t0.458016\n",
      "p\t0.020674\n",
      "\n",
      "\n",
      "summa\n",
      "f\t0.037503\n",
      "r\t0.189365\n",
      "p\t0.021132\n",
      "\n",
      "\n"
     ]
    }
   ],
   "source": [
    "compDict = {\n",
    "    'gensim': {\n",
    "    'f': [],\n",
    "    'r': [],\n",
    "    'p': []\n",
    "},\n",
    "    'rake': {\n",
    "    'f': [],\n",
    "    'r': [],\n",
    "    'p': []\n",
    "},\n",
    "    'summa': {\n",
    "    'f': [],\n",
    "    'r': [],\n",
    "    'p': []\n",
    "}\n",
    "}\n",
    "\n",
    "for k in papers:\n",
    "    standard = papers[k]['kw']\n",
    "    \n",
    "    test_g = gensim_keywords[k]\n",
    "    test_r = rake_keywords[k]\n",
    "    test_s = summa_keywords[k]\n",
    "    \n",
    "    compDict['gensim']['r'].append(recall(test_g, standard))\n",
    "    compDict['gensim']['p'].append(precision(test_g, standard))\n",
    "    compDict['gensim']['f'].append(f_score(test_g, standard))\n",
    "    compDict['rake']['r'].append(recall(test_r, standard))\n",
    "    compDict['rake']['p'].append(precision(test_r, standard))\n",
    "    compDict['rake']['f'].append(f_score(test_r, standard))\n",
    "    compDict['summa']['r'].append(recall(test_s, standard))\n",
    "    compDict['summa']['p'].append(precision(test_s, standard))\n",
    "    compDict['summa']['f'].append(f_score(test_s, standard))\n",
    "    \n",
    "#for method in compDict:\n",
    "#    for metric in compDict[method]:\n",
    "#        nums = compDict[method][metric]\n",
    "#        compDict[method][metric] = sum(nums) / len(nums)\n",
    "        \n",
    "for method in compDict:\n",
    "    print(method)\n",
    "    for metric in compDict[method]:\n",
    "        L = compDict[method][metric]\n",
    "        print('%s\\t%f' % (metric, sum(L) / len(L)))\n",
    "        #print(L)\n",
    "    print('\\n')"
   ]
  },
  {
   "cell_type": "markdown",
   "metadata": {},
   "source": [
    "Учитывая количество предзаданных ключевых слов и размеры списка, которые предлагаются использованными инструментами, главным показателем будет ``recall``, так как нас интересуют в первую очередь ``true positive`` и ``false negative``.\n",
    "\n",
    "По этому критерию явным победителем является RAKE, который гораздо лучше улавливает составные фразы (а предзаданные списки состоят в основном из фраз, а не из отдельных слов)"
   ]
  },
  {
   "cell_type": "markdown",
   "metadata": {},
   "source": [
    "### Часть 4.\n",
    "\n",
    "Будем считать, что ``RAKE`` достаточно неплохо справился и без POS-фильтрации, поэтому я ее применю только к ``gensim``"
   ]
  },
  {
   "cell_type": "code",
   "execution_count": 43,
   "metadata": {},
   "outputs": [
    {
     "name": "stdout",
     "output_type": "stream",
     "text": [
      "f\t0.046957\n",
      "r\t0.225873\n",
      "p\t0.026567\n"
     ]
    }
   ],
   "source": [
    "gensim_keywords_F = {}\n",
    "\n",
    "for k in papers:\n",
    "    text = papers[k]['text']\n",
    "    gensim_keywords_F[k] = gensim_kw(text, pos_filter=['JJ','NN'], scores=True)\n",
    "    \n",
    "compDict['gensim_F'] = {\n",
    "    'f': [],\n",
    "    'r': [],\n",
    "    'p': []    \n",
    "}    \n",
    "\n",
    "for k in papers:\n",
    "    standard = papers[k]['kw']\n",
    "    \n",
    "    test_F = gensim_keywords_F[k]\n",
    "    \n",
    "    compDict['gensim_F']['r'].append(recall(test_F, standard))\n",
    "    compDict['gensim_F']['p'].append(precision(test_F, standard))\n",
    "    compDict['gensim_F']['f'].append(f_score(test_F, standard))\n",
    "\n",
    "\n",
    "for metric in compDict['gensim_F']:\n",
    "        L = compDict['gensim_F'][metric]\n",
    "        print('%s\\t%f' % (metric, sum(L) / len(L)))\n",
    "        #print(L)"
   ]
  },
  {
   "cell_type": "markdown",
   "metadata": {},
   "source": [
    "Результаты оказались абсолютно идентичны тем, что были"
   ]
  },
  {
   "cell_type": "markdown",
   "metadata": {},
   "source": [
    "### Часть 6.\n",
    "\n",
    "На самом деле, сложно сказать, что надо усовершенствовать.\n",
    "\n",
    "Я вижу несколько проблем:\n",
    "\n",
    "1. Отсутствие строгих критериев отбора ключевых слов для контроля качества.\n",
    "\n",
    "Никаких оценок, кроме собственной интуиции и имевшихся заранее тэгов, я дать не смог. При этом имевшиеся тэги говорят не о самых важных и значимых словах, а о некоторых фичах, которые описываются или _косвенно_ затрагиваются в статье.\n",
    "\n",
    "2. Фильтрация отдельных элементов.\n",
    "\n",
    "Например, ``RAKE``, хоть и был самым аккуратным из всех инструментов, часто выделял ссылки на другие статьи как ключевые слова (особенно в ``\"J_Chem_Ecol-4-1-2292484\"``). Также часто попадались цифры и элементы уравнений."
   ]
  }
 ],
 "metadata": {
  "kernelspec": {
   "display_name": "Python 3",
   "language": "python",
   "name": "python3"
  },
  "language_info": {
   "codemirror_mode": {
    "name": "ipython",
    "version": 3
   },
   "file_extension": ".py",
   "mimetype": "text/x-python",
   "name": "python",
   "nbconvert_exporter": "python",
   "pygments_lexer": "ipython3",
   "version": "3.7.6"
  }
 },
 "nbformat": 4,
 "nbformat_minor": 4
}
